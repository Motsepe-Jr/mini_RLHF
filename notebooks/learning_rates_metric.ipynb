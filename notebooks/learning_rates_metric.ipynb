{
 "cells": [
  {
   "cell_type": "code",
   "execution_count": 8,
   "metadata": {},
   "outputs": [],
   "source": [
    "import numpy as np\n",
    "import json\n",
    "import plotly.graph_objects as go\n",
    "from plotly.subplots import make_subplots\n",
    "import colorsys"
   ]
  },
  {
   "cell_type": "code",
   "execution_count": 2,
   "metadata": {},
   "outputs": [],
   "source": [
    "with open('learning_rates.json', 'r') as file:\n",
    "    results = json.load(file)"
   ]
  },
  {
   "cell_type": "code",
   "execution_count": 3,
   "metadata": {},
   "outputs": [
    {
     "name": "stdout",
     "output_type": "stream",
     "text": [
      "Constant Scheduler:\n",
      "  Final Loss: 5.853835\n",
      "  Average Loss: 6.503897\n",
      "  Average Gradient Norm: 1.705478\n",
      "  Convergence Speed: Step 13\n",
      "  Training Stability Score: 0.4972\n",
      "  Total Training Time: 1972.76 seconds\n",
      "\n",
      "Step Scheduler:\n",
      "  Final Loss: 5.151307\n",
      "  Average Loss: 5.534471\n",
      "  Average Gradient Norm: 0.493683\n",
      "  Convergence Speed: Step 1\n",
      "  Training Stability Score: 0.8183\n",
      "  Total Training Time: 2364.65 seconds\n",
      "\n",
      "MultiStep Scheduler:\n",
      "  Final Loss: 4.607251\n",
      "  Average Loss: 4.868881\n",
      "  Average Gradient Norm: 0.839494\n",
      "  Convergence Speed: Step 15\n",
      "  Training Stability Score: 0.8611\n",
      "  Total Training Time: 2397.08 seconds\n",
      "\n",
      "Exponential Scheduler:\n",
      "  Final Loss: 4.263788\n",
      "  Average Loss: 4.406377\n",
      "  Average Gradient Norm: 0.883760\n",
      "  Convergence Speed: Step 6\n",
      "  Training Stability Score: 0.9187\n",
      "  Total Training Time: 2336.36 seconds\n",
      "\n",
      "CosineAnnealing Scheduler:\n",
      "  Final Loss: 4.081490\n",
      "  Average Loss: 4.256855\n",
      "  Average Gradient Norm: 1.893919\n",
      "  Convergence Speed: Step 4\n",
      "  Training Stability Score: 0.8792\n",
      "  Total Training Time: 2333.75 seconds\n",
      "\n",
      "Linear Scheduler:\n",
      "  Final Loss: 3.830209\n",
      "  Average Loss: 4.004350\n",
      "  Average Gradient Norm: 2.384964\n",
      "  Convergence Speed: Step 20\n",
      "  Training Stability Score: 0.8900\n",
      "  Total Training Time: 2277.02 seconds\n",
      "\n",
      "Polynomial Scheduler:\n",
      "  Final Loss: 3.678876\n",
      "  Average Loss: 3.869423\n",
      "  Average Gradient Norm: 1.771231\n",
      "  Convergence Speed: Step 11\n",
      "  Training Stability Score: 0.8238\n",
      "  Total Training Time: 2249.94 seconds\n",
      "\n",
      "Cyclic Scheduler:\n",
      "  Final Loss: 3.981298\n",
      "  Average Loss: 3.681562\n",
      "  Average Gradient Norm: 3.924705\n",
      "  Convergence Speed: Step 9\n",
      "  Training Stability Score: 0.9388\n",
      "  Total Training Time: 2306.04 seconds\n",
      "\n",
      "OneCycle Scheduler:\n",
      "  Final Loss: 3.355333\n",
      "  Average Loss: 3.594094\n",
      "  Average Gradient Norm: 3.228172\n",
      "  Convergence Speed: Step 48\n",
      "  Training Stability Score: 0.8840\n",
      "  Total Training Time: 2271.37 seconds\n",
      "\n",
      "CosineAnnealingWarmRestarts Scheduler:\n",
      "  Final Loss: 3.689159\n",
      "  Average Loss: 3.854160\n",
      "  Average Gradient Norm: 2.590929\n",
      "  Convergence Speed: Did not converge\n",
      "  Training Stability Score: 0.8027\n",
      "  Total Training Time: 2240.12 seconds\n",
      "\n",
      "Fastest scheduler: Constant (1972.76 seconds)\n",
      "Slowest scheduler: MultiStep (2397.08 seconds)\n"
     ]
    }
   ],
   "source": [
    "\n",
    "def analyze_results(results):\n",
    "    for name, data in results.items():\n",
    "        final_loss = data['losses'][-1]\n",
    "        avg_loss = np.mean(data['losses'])\n",
    "        avg_norm = np.mean(data['norms'])\n",
    "        total_time = sum(data['times'])\n",
    "        \n",
    "        converged_step = data['converged_step']\n",
    "        convergence_speed = \"Did not converge\" if converged_step is None else f\"Step {converged_step}\"\n",
    "        \n",
    "        # Training Stability\n",
    "        loss_std = np.std(data['losses'])\n",
    "        stability_score = 1 / (1 + loss_std)  # Higher score means more stable\n",
    "        \n",
    "        print(f\"{name} Scheduler:\")\n",
    "        print(f\"  Final Loss: {final_loss:.6f}\")\n",
    "        print(f\"  Average Loss: {avg_loss:.6f}\")\n",
    "        print(f\"  Average Gradient Norm: {avg_norm:.6f}\")\n",
    "        print(f\"  Convergence Speed: {convergence_speed}\")\n",
    "        print(f\"  Training Stability Score: {stability_score:.4f}\")\n",
    "        print(f\"  Total Training Time: {total_time:.2f} seconds\")\n",
    "        print()\n",
    "\n",
    "    # Compare resource usage\n",
    "    total_times = {name: sum(data['times']) for name, data in results.items()}\n",
    "    fastest_scheduler = min(total_times, key=total_times.get)\n",
    "    slowest_scheduler = max(total_times, key=total_times.get)\n",
    "    print(f\"Fastest scheduler: {fastest_scheduler} ({total_times[fastest_scheduler]:.2f} seconds)\")\n",
    "    print(f\"Slowest scheduler: {slowest_scheduler} ({total_times[slowest_scheduler]:.2f} seconds)\")\n",
    "\n",
    "analyze_results(results)"
   ]
  },
  {
   "cell_type": "code",
   "execution_count": 21,
   "metadata": {},
   "outputs": [],
   "source": [
    "\n",
    "def generate_distinct_colors(n):\n",
    "    HSV_tuples = [(x * 1.0 / n, 0.7, 0.9) for x in range(n)]\n",
    "    return list(map(lambda x: colorsys.hsv_to_rgb(*x), HSV_tuples))\n",
    "\n",
    "def plot_individual_metric(results, metric, title, y_axis_title, log_scale=False):\n",
    "    n_schedulers = len(results)\n",
    "    colors = generate_distinct_colors(n_schedulers)\n",
    "    \n",
    "    fig = go.Figure()\n",
    "\n",
    "    for idx, (name, data) in enumerate(results.items()):\n",
    "        color = f'rgb({\",\".join(map(str, [int(255*x) for x in colors[idx]]))})'\n",
    "        \n",
    "        y_data = data[metric]\n",
    "        x_data = list(range(len(y_data)))\n",
    "        \n",
    "        fig.add_trace(\n",
    "            go.Scatter(\n",
    "                x=x_data, \n",
    "                y=y_data,\n",
    "                mode='lines', \n",
    "                name=name, \n",
    "                line=dict(color=color, width=3),\n",
    "                hovertemplate=f'{name}<br>Step: %{{x}}<br>{y_axis_title}: %{{y:.4f}}<extra></extra>'\n",
    "            )\n",
    "        )\n",
    "        \n",
    "        stability_score = 1 / (1 + np.std(data['losses']))\n",
    "        converged_step = data['converged_step']\n",
    "        convergence_text = f\"Step {converged_step}\" if converged_step is not None else \"Did not converge\"\n",
    "\n",
    "        fig.add_annotation(\n",
    "            text=f\"<b>{name}</b><br>Stability: {stability_score:.4f}<br>Convergence: {convergence_text}\",\n",
    "            xref=\"paper\", yref=\"paper\",\n",
    "            x=1.02, y=0.98 - (idx * 0.1), \n",
    "            showarrow=False,\n",
    "            font=dict(size=12, color=color),\n",
    "            align=\"left\", \n",
    "            bgcolor=\"rgba(255,255,255,0.8)\",\n",
    "            bordercolor=color,\n",
    "            borderwidth=2,\n",
    "            borderpad=4\n",
    "        )\n",
    "\n",
    "    fig.update_layout(\n",
    "        height=600, width=900, \n",
    "        title_text=f\"<b>{title}</b>\",\n",
    "        title_font=dict(size=24),\n",
    "        showlegend=True,\n",
    "        legend=dict(font=dict(size=14)),\n",
    "        hovermode=\"x unified\",\n",
    "        plot_bgcolor='rgba(250,250,250,0.9)',\n",
    "        paper_bgcolor='rgba(250,250,250,0.9)',\n",
    "        font=dict(family=\"Arial\", size=16, color=\"#444\"),\n",
    "    )\n",
    "\n",
    "    fig.update_xaxes(title_text=\"<b>Step</b>\", gridcolor='white', gridwidth=2)\n",
    "    fig.update_yaxes(title_text=f\"<b>{y_axis_title}</b>\", gridcolor='white', gridwidth=2)\n",
    "    \n",
    "    if log_scale:\n",
    "        fig.update_yaxes(type=\"log\")\n",
    "\n",
    "    fig.show()\n",
    "\n",
    "def plot_results(results):\n",
    "    # Plot Training Loss\n",
    "    plot_individual_metric(results, 'losses', \"Training Loss\", \"Loss\", log_scale=True)\n",
    "    \n",
    "    # Plot Learning Rate Schedule\n",
    "    plot_individual_metric(results, 'lrs', \"Learning Rate Schedule\", \"Learning Rate\", log_scale=True)\n",
    "    \n",
    "    # Plot Gradient Norm\n",
    "    plot_individual_metric(results, 'norms', \"Gradient Norm\", \"Gradient Norm\")\n",
    "    \n",
    "    # Plot Cumulative Training Time\n",
    "    cumulative_times = {name: np.cumsum(data['times']) for name, data in results.items()}\n",
    "    cumulative_results = {name: {'times': times} for name, times in cumulative_times.items()}\n",
    "    plot_individual_metric(cumulative_results, 'times', \"Cumulative Training Time\", \"Time (s)\")"
   ]
  },
  {
   "cell_type": "code",
   "execution_count": 22,
   "metadata": {},
   "outputs": [
    {
     "data": {
      "application/vnd.plotly.v1+json": {
       "config": {
        "plotlyServerURL": "https://plot.ly"
       },
       "data": [
        {
         "hovertemplate": "Constant<br>Step: %{x}<br>Loss: %{y:.4f}<extra></extra>",
         "line": {
          "color": "rgb(229,68,68)",
          "width": 3
         },
         "mode": "lines",
         "type": "scatter",
         "x": [
          0,
          1,
          2,
          3,
          4,
          5,
          6,
          7,
          8,
          9,
          10,
          11,
          12,
          13,
          14,
          15,
          16,
          17,
          18,
          19,
          20,
          21,
          22,
          23,
          24,
          25,
          26,
          27,
          28,
          29,
          30,
          31,
          32,
          33,
          34,
          35,
          36,
          37,
          38,
          39,
          40,
          41,
          42,
          43,
          44,
          45,
          46,
          47,
          48,
          49
         ],
         "y": [
          10.94216251373291,
          9.529211044311523,
          8.753594398498535,
          8.655911445617676,
          7.990176200866699,
          7.6446051597595215,
          7.337713241577148,
          7.017261981964111,
          6.7847795486450195,
          6.6447224617004395,
          6.51155424118042,
          6.4468793869018555,
          6.400357246398926,
          6.402519702911377,
          6.35617733001709,
          6.368557929992676,
          6.338483810424805,
          6.3124613761901855,
          6.278809070587158,
          6.238594055175781,
          6.216606140136719,
          6.198106288909912,
          6.195227146148682,
          6.167748928070068,
          6.171409606933594,
          6.139416217803955,
          6.12668514251709,
          6.099693775177002,
          6.081947326660156,
          6.064859867095947,
          6.038465976715088,
          6.03399658203125,
          6.010071277618408,
          6.01917839050293,
          5.983759880065918,
          5.998574256896973,
          5.977841377258301,
          5.963002681732178,
          5.9597487449646,
          5.940192222595215,
          5.9239654541015625,
          5.913373947143555,
          5.907753944396973,
          5.87364387512207,
          5.903754711151123,
          5.8797607421875,
          5.87224006652832,
          5.867584228515625,
          5.857882499694824,
          5.853835105895996
         ]
        },
        {
         "hovertemplate": "Step<br>Step: %{x}<br>Loss: %{y:.4f}<extra></extra>",
         "line": {
          "color": "rgb(229,165,68)",
          "width": 3
         },
         "mode": "lines",
         "type": "scatter",
         "x": [
          0,
          1,
          2,
          3,
          4,
          5,
          6,
          7,
          8,
          9,
          10,
          11,
          12,
          13,
          14,
          15,
          16,
          17,
          18,
          19,
          20,
          21,
          22,
          23,
          24,
          25,
          26,
          27,
          28,
          29,
          30,
          31,
          32,
          33,
          34,
          35,
          36,
          37,
          38,
          39,
          40,
          41,
          42,
          43,
          44,
          45,
          46,
          47,
          48,
          49
         ],
         "y": [
          5.843550682067871,
          5.845781326293945,
          5.816864490509033,
          5.836104869842529,
          5.803953170776367,
          5.8087592124938965,
          5.787382125854492,
          5.773736000061035,
          5.766012668609619,
          5.7460784912109375,
          5.739009380340576,
          5.706881999969482,
          5.758945941925049,
          5.985995769500732,
          5.69159460067749,
          5.729694843292236,
          5.6945414543151855,
          5.6656365394592285,
          5.663571834564209,
          5.629367828369141,
          5.62127685546875,
          5.606656074523926,
          5.567144870758057,
          5.5868120193481445,
          5.542540550231934,
          5.5348219871521,
          5.512299537658691,
          5.500038146972656,
          5.483960151672363,
          5.455087184906006,
          5.461188793182373,
          5.419103145599365,
          5.440324306488037,
          5.3851213455200195,
          5.39647102355957,
          5.36138916015625,
          5.347468376159668,
          5.336551189422607,
          5.314676284790039,
          5.310797214508057,
          5.288922309875488,
          5.295403957366943,
          5.230477809906006,
          5.2567338943481445,
          5.220954418182373,
          5.210785865783691,
          5.193455696105957,
          5.197129249572754,
          5.201187610626221,
          5.151306629180908
         ]
        },
        {
         "hovertemplate": "MultiStep<br>Step: %{x}<br>Loss: %{y:.4f}<extra></extra>",
         "line": {
          "color": "rgb(197,229,68)",
          "width": 3
         },
         "mode": "lines",
         "type": "scatter",
         "x": [
          0,
          1,
          2,
          3,
          4,
          5,
          6,
          7,
          8,
          9,
          10,
          11,
          12,
          13,
          14,
          15,
          16,
          17,
          18,
          19,
          20,
          21,
          22,
          23,
          24,
          25,
          26,
          27,
          28,
          29,
          30,
          31,
          32,
          33,
          34,
          35,
          36,
          37,
          38,
          39,
          40,
          41,
          42,
          43,
          44,
          45,
          46,
          47,
          48,
          49
         ],
         "y": [
          5.160398483276367,
          5.126718044281006,
          5.137912750244141,
          5.104766368865967,
          5.115762710571289,
          5.0782470703125,
          5.0851874351501465,
          5.071709632873535,
          5.034233093261719,
          5.0553507804870605,
          5.001293182373047,
          5.038488388061523,
          4.982954978942871,
          4.995030879974365,
          4.968626499176025,
          4.973247528076172,
          4.960315227508545,
          4.947707176208496,
          4.9449357986450195,
          4.923936367034912,
          4.916603088378906,
          4.884650707244873,
          4.909881591796875,
          4.872128009796143,
          4.882143497467041,
          4.8492751121521,
          4.853857517242432,
          4.829718112945557,
          4.817594528198242,
          4.822899341583252,
          4.773126602172852,
          4.8249969482421875,
          4.798400402069092,
          4.773909568786621,
          4.798323631286621,
          4.757500171661377,
          4.761364459991455,
          4.721741676330566,
          4.73539400100708,
          4.688053607940674,
          4.728874683380127,
          4.661181449890137,
          4.695088863372803,
          4.657424449920654,
          4.650251388549805,
          4.6460442543029785,
          4.6194539070129395,
          4.612955093383789,
          4.5871262550354,
          4.607251167297363
         ]
        },
        {
         "hovertemplate": "Exponential<br>Step: %{x}<br>Loss: %{y:.4f}<extra></extra>",
         "line": {
          "color": "rgb(100,229,68)",
          "width": 3
         },
         "mode": "lines",
         "type": "scatter",
         "x": [
          0,
          1,
          2,
          3,
          4,
          5,
          6,
          7,
          8,
          9,
          10,
          11,
          12,
          13,
          14,
          15,
          16,
          17,
          18,
          19,
          20,
          21,
          22,
          23,
          24,
          25,
          26,
          27,
          28,
          29,
          30,
          31,
          32,
          33,
          34,
          35,
          36,
          37,
          38,
          39,
          40,
          41,
          42,
          43,
          44,
          45,
          46,
          47,
          48,
          49
         ],
         "y": [
          4.550233840942383,
          4.598367691040039,
          4.537537574768066,
          4.575944900512695,
          4.5482177734375,
          4.531732082366943,
          4.528079986572266,
          4.515089988708496,
          4.507859706878662,
          4.463579177856445,
          4.523608207702637,
          4.444337844848633,
          4.4888410568237305,
          4.454566478729248,
          4.47305965423584,
          4.498931407928467,
          4.448148727416992,
          4.452836513519287,
          4.4258222579956055,
          4.455251216888428,
          4.403177738189697,
          4.422714710235596,
          4.398850917816162,
          4.396651744842529,
          4.392251014709473,
          4.389015197753906,
          4.379813194274902,
          4.362035751342773,
          4.388901710510254,
          4.332246780395508,
          4.386063098907471,
          4.334094524383545,
          4.358002185821533,
          4.3394389152526855,
          4.337987899780273,
          4.339010238647461,
          4.327230930328369,
          4.339275360107422,
          4.304261207580566,
          4.344790458679199,
          4.29699182510376,
          4.3306803703308105,
          4.299285888671875,
          4.309267044067383,
          4.310333251953125,
          4.2956862449646,
          4.308393955230713,
          4.2859721183776855,
          4.320590019226074,
          4.263787746429443
         ]
        },
        {
         "hovertemplate": "CosineAnnealing<br>Step: %{x}<br>Loss: %{y:.4f}<extra></extra>",
         "line": {
          "color": "rgb(68,229,133)",
          "width": 3
         },
         "mode": "lines",
         "type": "scatter",
         "x": [
          0,
          1,
          2,
          3,
          4,
          5,
          6,
          7,
          8,
          9,
          10,
          11,
          12,
          13,
          14,
          15,
          16,
          17,
          18,
          19,
          20,
          21,
          22,
          23,
          24,
          25,
          26,
          27,
          28,
          29,
          30,
          31,
          32,
          33,
          34,
          35,
          36,
          37,
          38,
          39,
          40,
          41,
          42,
          43,
          44,
          45,
          46,
          47,
          48,
          49
         ],
         "y": [
          4.309675693511963,
          4.277547359466553,
          4.292398929595947,
          4.28631067276001,
          4.283871650695801,
          4.298397541046143,
          4.267063617706299,
          4.479641437530518,
          4.368651390075684,
          4.46584939956665,
          4.410206317901611,
          4.448545932769775,
          4.522383213043213,
          4.387897491455078,
          4.430239200592041,
          4.4228692054748535,
          4.505444526672363,
          4.500178813934326,
          4.4764204025268555,
          4.335741996765137,
          4.338099479675293,
          4.299522399902344,
          4.288118362426758,
          4.283483982086182,
          4.254705905914307,
          4.269800662994385,
          4.25527286529541,
          4.2961201667785645,
          4.2150068283081055,
          4.247588157653809,
          4.1834259033203125,
          4.198345184326172,
          4.180919647216797,
          4.1699957847595215,
          4.1631646156311035,
          4.135324001312256,
          4.1517558097839355,
          4.095057010650635,
          4.143881797790527,
          4.090676784515381,
          4.112567901611328,
          4.090846538543701,
          4.087848663330078,
          4.091881275177002,
          4.0693135261535645,
          4.089182376861572,
          4.053637504577637,
          4.096367359161377,
          4.039999485015869,
          4.0814900398254395
         ]
        },
        {
         "hovertemplate": "Linear<br>Step: %{x}<br>Loss: %{y:.4f}<extra></extra>",
         "line": {
          "color": "rgb(68,229,229)",
          "width": 3
         },
         "mode": "lines",
         "type": "scatter",
         "x": [
          0,
          1,
          2,
          3,
          4,
          5,
          6,
          7,
          8,
          9,
          10,
          11,
          12,
          13,
          14,
          15,
          16,
          17,
          18,
          19,
          20,
          21,
          22,
          23,
          24,
          25,
          26,
          27,
          28,
          29,
          30,
          31,
          32,
          33,
          34,
          35,
          36,
          37,
          38,
          39,
          40,
          41,
          42,
          43,
          44,
          45,
          46,
          47,
          48,
          49
         ],
         "y": [
          4.045899868011475,
          4.130621433258057,
          4.157863140106201,
          4.139013767242432,
          4.18358039855957,
          4.127709865570068,
          4.2168402671813965,
          4.1284613609313965,
          4.160581588745117,
          4.138832092285156,
          4.163476467132568,
          4.155523777008057,
          4.267843723297119,
          4.15618896484375,
          4.11103630065918,
          4.1802520751953125,
          4.061225414276123,
          4.114497184753418,
          4.016031265258789,
          4.063007354736328,
          4.065221309661865,
          4.015181541442871,
          4.040571212768555,
          3.9863152503967285,
          4.002115249633789,
          3.9501161575317383,
          4.001101970672607,
          3.919795513153076,
          3.961116313934326,
          3.934274196624756,
          3.9294590950012207,
          3.9424362182617188,
          3.9201345443725586,
          3.927227258682251,
          3.899273633956909,
          3.935399293899536,
          3.864790201187134,
          3.917323350906372,
          3.8578875064849854,
          3.8888227939605713,
          3.8640003204345703,
          3.867399215698242,
          3.8657009601593018,
          3.8533520698547363,
          3.877264976501465,
          3.8251054286956787,
          3.8741068840026855,
          3.826906204223633,
          3.8564035892486572,
          3.830209255218506
         ]
        },
        {
         "hovertemplate": "Polynomial<br>Step: %{x}<br>Loss: %{y:.4f}<extra></extra>",
         "line": {
          "color": "rgb(68,133,229)",
          "width": 3
         },
         "mode": "lines",
         "type": "scatter",
         "x": [
          0,
          1,
          2,
          3,
          4,
          5,
          6,
          7,
          8,
          9,
          10,
          11,
          12,
          13,
          14,
          15,
          16,
          17,
          18,
          19,
          20,
          21,
          22,
          23,
          24,
          25,
          26,
          27,
          28,
          29,
          30,
          31,
          32,
          33,
          34,
          35,
          36,
          37,
          38,
          39,
          40,
          41,
          42,
          43,
          44,
          45,
          46,
          47,
          48,
          49
         ],
         "y": [
          3.8405747413635254,
          4.485342502593994,
          4.602205276489258,
          4.424868106842041,
          4.226781368255615,
          4.155219078063965,
          4.1076884269714355,
          4.113654613494873,
          4.021406173706055,
          3.967766523361206,
          3.984381914138794,
          3.9877936840057373,
          4.034257411956787,
          4.014880657196045,
          3.999985456466675,
          3.9107227325439453,
          3.921557664871216,
          3.864851236343384,
          3.8637290000915527,
          3.841932773590088,
          3.8429322242736816,
          3.823261022567749,
          3.8176069259643555,
          3.832504987716675,
          3.76725697517395,
          3.8235559463500977,
          3.7603631019592285,
          3.786405324935913,
          3.755356788635254,
          3.748655319213867,
          3.7567687034606934,
          3.7322347164154053,
          3.7466208934783936,
          3.7127909660339355,
          3.7531051635742188,
          3.690103054046631,
          3.7330877780914307,
          3.700897693634033,
          3.708465337753296,
          3.7099602222442627,
          3.697173595428467,
          3.706341028213501,
          3.6845543384552,
          3.7154011726379395,
          3.6605064868927,
          3.715726137161255,
          3.6703317165374756,
          3.692727565765381,
          3.6779799461364746,
          3.6788759231567383
         ]
        },
        {
         "hovertemplate": "Cyclic<br>Step: %{x}<br>Loss: %{y:.4f}<extra></extra>",
         "line": {
          "color": "rgb(100,68,229)",
          "width": 3
         },
         "mode": "lines",
         "type": "scatter",
         "x": [
          0,
          1,
          2,
          3,
          4,
          5,
          6,
          7,
          8,
          9,
          10,
          11,
          12,
          13,
          14,
          15,
          16,
          17,
          18,
          19,
          20,
          21,
          22,
          23,
          24,
          25,
          26,
          27,
          28,
          29,
          30,
          31,
          32,
          33,
          34,
          35,
          36,
          37,
          38,
          39,
          40,
          41,
          42,
          43,
          44,
          45,
          46,
          47,
          48,
          49
         ],
         "y": [
          3.6856513023376465,
          3.668459892272949,
          3.690425395965576,
          3.6499826908111572,
          3.694474220275879,
          3.6414482593536377,
          3.6758875846862793,
          3.6441597938537598,
          3.655759811401367,
          3.6558852195739746,
          3.638817071914673,
          3.6596415042877197,
          3.617574453353882,
          3.6860768795013428,
          3.600619316101074,
          3.6977250576019287,
          3.6478159427642822,
          3.639305830001831,
          3.6173453330993652,
          3.689081907272339,
          3.6579222679138184,
          3.7020187377929688,
          3.715229034423828,
          3.627101421356201,
          3.681157350540161,
          3.614927053451538,
          3.6564316749572754,
          3.6268324851989746,
          3.6205644607543945,
          3.601607084274292,
          3.674999952316284,
          3.714611291885376,
          3.6291205883026123,
          3.7004082202911377,
          3.6657495498657227,
          3.737912178039551,
          3.6751387119293213,
          3.6754136085510254,
          3.688004970550537,
          3.632816791534424,
          3.686990261077881,
          3.637415885925293,
          3.7910385131835938,
          3.795062303543091,
          3.7659852504730225,
          3.700294017791748,
          3.759294033050537,
          3.6754393577575684,
          3.8311665058135986,
          3.981297731399536
         ]
        },
        {
         "hovertemplate": "OneCycle<br>Step: %{x}<br>Loss: %{y:.4f}<extra></extra>",
         "line": {
          "color": "rgb(197,68,229)",
          "width": 3
         },
         "mode": "lines",
         "type": "scatter",
         "x": [
          0,
          1,
          2,
          3,
          4,
          5,
          6,
          7,
          8,
          9,
          10,
          11,
          12,
          13,
          14,
          15,
          16,
          17,
          18,
          19,
          20,
          21,
          22,
          23,
          24,
          25,
          26,
          27,
          28,
          29,
          30,
          31,
          32,
          33,
          34,
          35,
          36,
          37,
          38,
          39,
          40,
          41,
          42,
          43,
          44,
          45,
          46,
          47,
          48,
          49
         ],
         "y": [
          3.7417733669281006,
          3.737642765045166,
          3.6073832511901855,
          3.6397266387939453,
          3.6541993618011475,
          3.7285923957824707,
          3.71480131149292,
          3.675149440765381,
          3.6937501430511475,
          3.7190778255462646,
          3.7690742015838623,
          3.7429542541503906,
          3.717407703399658,
          3.7391018867492676,
          3.799778461456299,
          3.790175676345825,
          3.801971435546875,
          3.706027030944824,
          3.6794352531433105,
          3.6625866889953613,
          3.6398470401763916,
          3.665764093399048,
          3.6280500888824463,
          3.6326065063476562,
          3.5963666439056396,
          3.6119563579559326,
          3.6254472732543945,
          3.6824450492858887,
          3.6451916694641113,
          3.594841957092285,
          3.6062862873077393,
          3.514547824859619,
          3.5694682598114014,
          3.507484197616577,
          3.518307685852051,
          3.4997432231903076,
          3.4826786518096924,
          3.47379207611084,
          3.452686071395874,
          3.4570930004119873,
          3.4210214614868164,
          3.4667038917541504,
          3.399118185043335,
          3.4291722774505615,
          3.384209156036377,
          3.3879542350769043,
          3.3824586868286133,
          3.377063751220703,
          3.376431703567505,
          3.355333089828491
         ]
        },
        {
         "hovertemplate": "CosineAnnealingWarmRestarts<br>Step: %{x}<br>Loss: %{y:.4f}<extra></extra>",
         "line": {
          "color": "rgb(229,68,165)",
          "width": 3
         },
         "mode": "lines",
         "type": "scatter",
         "x": [
          0,
          1,
          2,
          3,
          4,
          5,
          6,
          7,
          8,
          9,
          10,
          11,
          12,
          13,
          14,
          15,
          16,
          17,
          18,
          19,
          20,
          21,
          22,
          23,
          24,
          25,
          26,
          27,
          28,
          29,
          30,
          31,
          32,
          33,
          34,
          35,
          36,
          37,
          38,
          39,
          40,
          41,
          42,
          43,
          44,
          45,
          46,
          47,
          48,
          49
         ],
         "y": [
          3.3818368911743164,
          3.4955248832702637,
          3.6767358779907227,
          3.6314406394958496,
          3.6592512130737305,
          3.769148826599121,
          3.562183380126953,
          3.515212297439575,
          3.477266550064087,
          3.4647786617279053,
          3.3802742958068848,
          4.343868732452393,
          4.56535005569458,
          4.27196741104126,
          4.105103015899658,
          3.9779350757598877,
          3.894327402114868,
          3.8128366470336914,
          3.7935492992401123,
          3.701915979385376,
          3.7070484161376953,
          3.9753286838531494,
          4.2290215492248535,
          4.198737621307373,
          4.172944068908691,
          4.119016647338867,
          3.992588758468628,
          3.916031837463379,
          3.8281702995300293,
          3.8194475173950195,
          3.721860647201538,
          3.8651795387268066,
          4.01653528213501,
          4.085875034332275,
          4.07008171081543,
          4.059829235076904,
          4.004116535186768,
          3.9286205768585205,
          3.893209218978882,
          3.815800189971924,
          3.832231283187866,
          3.7581422328948975,
          3.825956344604492,
          3.830263614654541,
          3.842996597290039,
          3.8256168365478516,
          3.771834373474121,
          3.749613046646118,
          3.6822397708892822,
          3.6891589164733887
         ]
        }
       ],
       "layout": {
        "annotations": [
         {
          "align": "left",
          "bgcolor": "rgba(255,255,255,0.8)",
          "bordercolor": "rgb(229,68,68)",
          "borderpad": 4,
          "borderwidth": 2,
          "font": {
           "color": "rgb(229,68,68)",
           "size": 12
          },
          "showarrow": false,
          "text": "<b>Constant</b><br>Stability: 0.4972<br>Convergence: Step 13",
          "x": 1.02,
          "xref": "paper",
          "y": 0.98,
          "yref": "paper"
         },
         {
          "align": "left",
          "bgcolor": "rgba(255,255,255,0.8)",
          "bordercolor": "rgb(229,165,68)",
          "borderpad": 4,
          "borderwidth": 2,
          "font": {
           "color": "rgb(229,165,68)",
           "size": 12
          },
          "showarrow": false,
          "text": "<b>Step</b><br>Stability: 0.8183<br>Convergence: Step 1",
          "x": 1.02,
          "xref": "paper",
          "y": 0.88,
          "yref": "paper"
         },
         {
          "align": "left",
          "bgcolor": "rgba(255,255,255,0.8)",
          "bordercolor": "rgb(197,229,68)",
          "borderpad": 4,
          "borderwidth": 2,
          "font": {
           "color": "rgb(197,229,68)",
           "size": 12
          },
          "showarrow": false,
          "text": "<b>MultiStep</b><br>Stability: 0.8611<br>Convergence: Step 15",
          "x": 1.02,
          "xref": "paper",
          "y": 0.78,
          "yref": "paper"
         },
         {
          "align": "left",
          "bgcolor": "rgba(255,255,255,0.8)",
          "bordercolor": "rgb(100,229,68)",
          "borderpad": 4,
          "borderwidth": 2,
          "font": {
           "color": "rgb(100,229,68)",
           "size": 12
          },
          "showarrow": false,
          "text": "<b>Exponential</b><br>Stability: 0.9187<br>Convergence: Step 6",
          "x": 1.02,
          "xref": "paper",
          "y": 0.6799999999999999,
          "yref": "paper"
         },
         {
          "align": "left",
          "bgcolor": "rgba(255,255,255,0.8)",
          "bordercolor": "rgb(68,229,133)",
          "borderpad": 4,
          "borderwidth": 2,
          "font": {
           "color": "rgb(68,229,133)",
           "size": 12
          },
          "showarrow": false,
          "text": "<b>CosineAnnealing</b><br>Stability: 0.8792<br>Convergence: Step 4",
          "x": 1.02,
          "xref": "paper",
          "y": 0.58,
          "yref": "paper"
         },
         {
          "align": "left",
          "bgcolor": "rgba(255,255,255,0.8)",
          "bordercolor": "rgb(68,229,229)",
          "borderpad": 4,
          "borderwidth": 2,
          "font": {
           "color": "rgb(68,229,229)",
           "size": 12
          },
          "showarrow": false,
          "text": "<b>Linear</b><br>Stability: 0.8900<br>Convergence: Step 20",
          "x": 1.02,
          "xref": "paper",
          "y": 0.48,
          "yref": "paper"
         },
         {
          "align": "left",
          "bgcolor": "rgba(255,255,255,0.8)",
          "bordercolor": "rgb(68,133,229)",
          "borderpad": 4,
          "borderwidth": 2,
          "font": {
           "color": "rgb(68,133,229)",
           "size": 12
          },
          "showarrow": false,
          "text": "<b>Polynomial</b><br>Stability: 0.8238<br>Convergence: Step 11",
          "x": 1.02,
          "xref": "paper",
          "y": 0.3799999999999999,
          "yref": "paper"
         },
         {
          "align": "left",
          "bgcolor": "rgba(255,255,255,0.8)",
          "bordercolor": "rgb(100,68,229)",
          "borderpad": 4,
          "borderwidth": 2,
          "font": {
           "color": "rgb(100,68,229)",
           "size": 12
          },
          "showarrow": false,
          "text": "<b>Cyclic</b><br>Stability: 0.9388<br>Convergence: Step 9",
          "x": 1.02,
          "xref": "paper",
          "y": 0.2799999999999999,
          "yref": "paper"
         },
         {
          "align": "left",
          "bgcolor": "rgba(255,255,255,0.8)",
          "bordercolor": "rgb(197,68,229)",
          "borderpad": 4,
          "borderwidth": 2,
          "font": {
           "color": "rgb(197,68,229)",
           "size": 12
          },
          "showarrow": false,
          "text": "<b>OneCycle</b><br>Stability: 0.8840<br>Convergence: Step 48",
          "x": 1.02,
          "xref": "paper",
          "y": 0.17999999999999994,
          "yref": "paper"
         },
         {
          "align": "left",
          "bgcolor": "rgba(255,255,255,0.8)",
          "bordercolor": "rgb(229,68,165)",
          "borderpad": 4,
          "borderwidth": 2,
          "font": {
           "color": "rgb(229,68,165)",
           "size": 12
          },
          "showarrow": false,
          "text": "<b>CosineAnnealingWarmRestarts</b><br>Stability: 0.8027<br>Convergence: Did not converge",
          "x": 1.02,
          "xref": "paper",
          "y": 0.07999999999999996,
          "yref": "paper"
         }
        ],
        "font": {
         "color": "#444",
         "family": "Arial",
         "size": 16
        },
        "height": 600,
        "hovermode": "x unified",
        "legend": {
         "font": {
          "size": 14
         }
        },
        "paper_bgcolor": "rgba(250,250,250,0.9)",
        "plot_bgcolor": "rgba(250,250,250,0.9)",
        "showlegend": true,
        "template": {
         "data": {
          "bar": [
           {
            "error_x": {
             "color": "#2a3f5f"
            },
            "error_y": {
             "color": "#2a3f5f"
            },
            "marker": {
             "line": {
              "color": "white",
              "width": 0.5
             },
             "pattern": {
              "fillmode": "overlay",
              "size": 10,
              "solidity": 0.2
             }
            },
            "type": "bar"
           }
          ],
          "barpolar": [
           {
            "marker": {
             "line": {
              "color": "white",
              "width": 0.5
             },
             "pattern": {
              "fillmode": "overlay",
              "size": 10,
              "solidity": 0.2
             }
            },
            "type": "barpolar"
           }
          ],
          "carpet": [
           {
            "aaxis": {
             "endlinecolor": "#2a3f5f",
             "gridcolor": "#C8D4E3",
             "linecolor": "#C8D4E3",
             "minorgridcolor": "#C8D4E3",
             "startlinecolor": "#2a3f5f"
            },
            "baxis": {
             "endlinecolor": "#2a3f5f",
             "gridcolor": "#C8D4E3",
             "linecolor": "#C8D4E3",
             "minorgridcolor": "#C8D4E3",
             "startlinecolor": "#2a3f5f"
            },
            "type": "carpet"
           }
          ],
          "choropleth": [
           {
            "colorbar": {
             "outlinewidth": 0,
             "ticks": ""
            },
            "type": "choropleth"
           }
          ],
          "contour": [
           {
            "colorbar": {
             "outlinewidth": 0,
             "ticks": ""
            },
            "colorscale": [
             [
              0,
              "#0d0887"
             ],
             [
              0.1111111111111111,
              "#46039f"
             ],
             [
              0.2222222222222222,
              "#7201a8"
             ],
             [
              0.3333333333333333,
              "#9c179e"
             ],
             [
              0.4444444444444444,
              "#bd3786"
             ],
             [
              0.5555555555555556,
              "#d8576b"
             ],
             [
              0.6666666666666666,
              "#ed7953"
             ],
             [
              0.7777777777777778,
              "#fb9f3a"
             ],
             [
              0.8888888888888888,
              "#fdca26"
             ],
             [
              1,
              "#f0f921"
             ]
            ],
            "type": "contour"
           }
          ],
          "contourcarpet": [
           {
            "colorbar": {
             "outlinewidth": 0,
             "ticks": ""
            },
            "type": "contourcarpet"
           }
          ],
          "heatmap": [
           {
            "colorbar": {
             "outlinewidth": 0,
             "ticks": ""
            },
            "colorscale": [
             [
              0,
              "#0d0887"
             ],
             [
              0.1111111111111111,
              "#46039f"
             ],
             [
              0.2222222222222222,
              "#7201a8"
             ],
             [
              0.3333333333333333,
              "#9c179e"
             ],
             [
              0.4444444444444444,
              "#bd3786"
             ],
             [
              0.5555555555555556,
              "#d8576b"
             ],
             [
              0.6666666666666666,
              "#ed7953"
             ],
             [
              0.7777777777777778,
              "#fb9f3a"
             ],
             [
              0.8888888888888888,
              "#fdca26"
             ],
             [
              1,
              "#f0f921"
             ]
            ],
            "type": "heatmap"
           }
          ],
          "heatmapgl": [
           {
            "colorbar": {
             "outlinewidth": 0,
             "ticks": ""
            },
            "colorscale": [
             [
              0,
              "#0d0887"
             ],
             [
              0.1111111111111111,
              "#46039f"
             ],
             [
              0.2222222222222222,
              "#7201a8"
             ],
             [
              0.3333333333333333,
              "#9c179e"
             ],
             [
              0.4444444444444444,
              "#bd3786"
             ],
             [
              0.5555555555555556,
              "#d8576b"
             ],
             [
              0.6666666666666666,
              "#ed7953"
             ],
             [
              0.7777777777777778,
              "#fb9f3a"
             ],
             [
              0.8888888888888888,
              "#fdca26"
             ],
             [
              1,
              "#f0f921"
             ]
            ],
            "type": "heatmapgl"
           }
          ],
          "histogram": [
           {
            "marker": {
             "pattern": {
              "fillmode": "overlay",
              "size": 10,
              "solidity": 0.2
             }
            },
            "type": "histogram"
           }
          ],
          "histogram2d": [
           {
            "colorbar": {
             "outlinewidth": 0,
             "ticks": ""
            },
            "colorscale": [
             [
              0,
              "#0d0887"
             ],
             [
              0.1111111111111111,
              "#46039f"
             ],
             [
              0.2222222222222222,
              "#7201a8"
             ],
             [
              0.3333333333333333,
              "#9c179e"
             ],
             [
              0.4444444444444444,
              "#bd3786"
             ],
             [
              0.5555555555555556,
              "#d8576b"
             ],
             [
              0.6666666666666666,
              "#ed7953"
             ],
             [
              0.7777777777777778,
              "#fb9f3a"
             ],
             [
              0.8888888888888888,
              "#fdca26"
             ],
             [
              1,
              "#f0f921"
             ]
            ],
            "type": "histogram2d"
           }
          ],
          "histogram2dcontour": [
           {
            "colorbar": {
             "outlinewidth": 0,
             "ticks": ""
            },
            "colorscale": [
             [
              0,
              "#0d0887"
             ],
             [
              0.1111111111111111,
              "#46039f"
             ],
             [
              0.2222222222222222,
              "#7201a8"
             ],
             [
              0.3333333333333333,
              "#9c179e"
             ],
             [
              0.4444444444444444,
              "#bd3786"
             ],
             [
              0.5555555555555556,
              "#d8576b"
             ],
             [
              0.6666666666666666,
              "#ed7953"
             ],
             [
              0.7777777777777778,
              "#fb9f3a"
             ],
             [
              0.8888888888888888,
              "#fdca26"
             ],
             [
              1,
              "#f0f921"
             ]
            ],
            "type": "histogram2dcontour"
           }
          ],
          "mesh3d": [
           {
            "colorbar": {
             "outlinewidth": 0,
             "ticks": ""
            },
            "type": "mesh3d"
           }
          ],
          "parcoords": [
           {
            "line": {
             "colorbar": {
              "outlinewidth": 0,
              "ticks": ""
             }
            },
            "type": "parcoords"
           }
          ],
          "pie": [
           {
            "automargin": true,
            "type": "pie"
           }
          ],
          "scatter": [
           {
            "fillpattern": {
             "fillmode": "overlay",
             "size": 10,
             "solidity": 0.2
            },
            "type": "scatter"
           }
          ],
          "scatter3d": [
           {
            "line": {
             "colorbar": {
              "outlinewidth": 0,
              "ticks": ""
             }
            },
            "marker": {
             "colorbar": {
              "outlinewidth": 0,
              "ticks": ""
             }
            },
            "type": "scatter3d"
           }
          ],
          "scattercarpet": [
           {
            "marker": {
             "colorbar": {
              "outlinewidth": 0,
              "ticks": ""
             }
            },
            "type": "scattercarpet"
           }
          ],
          "scattergeo": [
           {
            "marker": {
             "colorbar": {
              "outlinewidth": 0,
              "ticks": ""
             }
            },
            "type": "scattergeo"
           }
          ],
          "scattergl": [
           {
            "marker": {
             "colorbar": {
              "outlinewidth": 0,
              "ticks": ""
             }
            },
            "type": "scattergl"
           }
          ],
          "scattermapbox": [
           {
            "marker": {
             "colorbar": {
              "outlinewidth": 0,
              "ticks": ""
             }
            },
            "type": "scattermapbox"
           }
          ],
          "scatterpolar": [
           {
            "marker": {
             "colorbar": {
              "outlinewidth": 0,
              "ticks": ""
             }
            },
            "type": "scatterpolar"
           }
          ],
          "scatterpolargl": [
           {
            "marker": {
             "colorbar": {
              "outlinewidth": 0,
              "ticks": ""
             }
            },
            "type": "scatterpolargl"
           }
          ],
          "scatterternary": [
           {
            "marker": {
             "colorbar": {
              "outlinewidth": 0,
              "ticks": ""
             }
            },
            "type": "scatterternary"
           }
          ],
          "surface": [
           {
            "colorbar": {
             "outlinewidth": 0,
             "ticks": ""
            },
            "colorscale": [
             [
              0,
              "#0d0887"
             ],
             [
              0.1111111111111111,
              "#46039f"
             ],
             [
              0.2222222222222222,
              "#7201a8"
             ],
             [
              0.3333333333333333,
              "#9c179e"
             ],
             [
              0.4444444444444444,
              "#bd3786"
             ],
             [
              0.5555555555555556,
              "#d8576b"
             ],
             [
              0.6666666666666666,
              "#ed7953"
             ],
             [
              0.7777777777777778,
              "#fb9f3a"
             ],
             [
              0.8888888888888888,
              "#fdca26"
             ],
             [
              1,
              "#f0f921"
             ]
            ],
            "type": "surface"
           }
          ],
          "table": [
           {
            "cells": {
             "fill": {
              "color": "#EBF0F8"
             },
             "line": {
              "color": "white"
             }
            },
            "header": {
             "fill": {
              "color": "#C8D4E3"
             },
             "line": {
              "color": "white"
             }
            },
            "type": "table"
           }
          ]
         },
         "layout": {
          "annotationdefaults": {
           "arrowcolor": "#2a3f5f",
           "arrowhead": 0,
           "arrowwidth": 1
          },
          "autotypenumbers": "strict",
          "coloraxis": {
           "colorbar": {
            "outlinewidth": 0,
            "ticks": ""
           }
          },
          "colorscale": {
           "diverging": [
            [
             0,
             "#8e0152"
            ],
            [
             0.1,
             "#c51b7d"
            ],
            [
             0.2,
             "#de77ae"
            ],
            [
             0.3,
             "#f1b6da"
            ],
            [
             0.4,
             "#fde0ef"
            ],
            [
             0.5,
             "#f7f7f7"
            ],
            [
             0.6,
             "#e6f5d0"
            ],
            [
             0.7,
             "#b8e186"
            ],
            [
             0.8,
             "#7fbc41"
            ],
            [
             0.9,
             "#4d9221"
            ],
            [
             1,
             "#276419"
            ]
           ],
           "sequential": [
            [
             0,
             "#0d0887"
            ],
            [
             0.1111111111111111,
             "#46039f"
            ],
            [
             0.2222222222222222,
             "#7201a8"
            ],
            [
             0.3333333333333333,
             "#9c179e"
            ],
            [
             0.4444444444444444,
             "#bd3786"
            ],
            [
             0.5555555555555556,
             "#d8576b"
            ],
            [
             0.6666666666666666,
             "#ed7953"
            ],
            [
             0.7777777777777778,
             "#fb9f3a"
            ],
            [
             0.8888888888888888,
             "#fdca26"
            ],
            [
             1,
             "#f0f921"
            ]
           ],
           "sequentialminus": [
            [
             0,
             "#0d0887"
            ],
            [
             0.1111111111111111,
             "#46039f"
            ],
            [
             0.2222222222222222,
             "#7201a8"
            ],
            [
             0.3333333333333333,
             "#9c179e"
            ],
            [
             0.4444444444444444,
             "#bd3786"
            ],
            [
             0.5555555555555556,
             "#d8576b"
            ],
            [
             0.6666666666666666,
             "#ed7953"
            ],
            [
             0.7777777777777778,
             "#fb9f3a"
            ],
            [
             0.8888888888888888,
             "#fdca26"
            ],
            [
             1,
             "#f0f921"
            ]
           ]
          },
          "colorway": [
           "#636efa",
           "#EF553B",
           "#00cc96",
           "#ab63fa",
           "#FFA15A",
           "#19d3f3",
           "#FF6692",
           "#B6E880",
           "#FF97FF",
           "#FECB52"
          ],
          "font": {
           "color": "#2a3f5f"
          },
          "geo": {
           "bgcolor": "white",
           "lakecolor": "white",
           "landcolor": "white",
           "showlakes": true,
           "showland": true,
           "subunitcolor": "#C8D4E3"
          },
          "hoverlabel": {
           "align": "left"
          },
          "hovermode": "closest",
          "mapbox": {
           "style": "light"
          },
          "paper_bgcolor": "white",
          "plot_bgcolor": "white",
          "polar": {
           "angularaxis": {
            "gridcolor": "#EBF0F8",
            "linecolor": "#EBF0F8",
            "ticks": ""
           },
           "bgcolor": "white",
           "radialaxis": {
            "gridcolor": "#EBF0F8",
            "linecolor": "#EBF0F8",
            "ticks": ""
           }
          },
          "scene": {
           "xaxis": {
            "backgroundcolor": "white",
            "gridcolor": "#DFE8F3",
            "gridwidth": 2,
            "linecolor": "#EBF0F8",
            "showbackground": true,
            "ticks": "",
            "zerolinecolor": "#EBF0F8"
           },
           "yaxis": {
            "backgroundcolor": "white",
            "gridcolor": "#DFE8F3",
            "gridwidth": 2,
            "linecolor": "#EBF0F8",
            "showbackground": true,
            "ticks": "",
            "zerolinecolor": "#EBF0F8"
           },
           "zaxis": {
            "backgroundcolor": "white",
            "gridcolor": "#DFE8F3",
            "gridwidth": 2,
            "linecolor": "#EBF0F8",
            "showbackground": true,
            "ticks": "",
            "zerolinecolor": "#EBF0F8"
           }
          },
          "shapedefaults": {
           "line": {
            "color": "#2a3f5f"
           }
          },
          "ternary": {
           "aaxis": {
            "gridcolor": "#DFE8F3",
            "linecolor": "#A2B1C6",
            "ticks": ""
           },
           "baxis": {
            "gridcolor": "#DFE8F3",
            "linecolor": "#A2B1C6",
            "ticks": ""
           },
           "bgcolor": "white",
           "caxis": {
            "gridcolor": "#DFE8F3",
            "linecolor": "#A2B1C6",
            "ticks": ""
           }
          },
          "title": {
           "x": 0.05
          },
          "xaxis": {
           "automargin": true,
           "gridcolor": "#EBF0F8",
           "linecolor": "#EBF0F8",
           "ticks": "",
           "title": {
            "standoff": 15
           },
           "zerolinecolor": "#EBF0F8",
           "zerolinewidth": 2
          },
          "yaxis": {
           "automargin": true,
           "gridcolor": "#EBF0F8",
           "linecolor": "#EBF0F8",
           "ticks": "",
           "title": {
            "standoff": 15
           },
           "zerolinecolor": "#EBF0F8",
           "zerolinewidth": 2
          }
         }
        },
        "title": {
         "font": {
          "size": 24
         },
         "text": "<b>Training Loss</b>"
        },
        "width": 900,
        "xaxis": {
         "gridcolor": "white",
         "gridwidth": 2,
         "title": {
          "text": "<b>Step</b>"
         }
        },
        "yaxis": {
         "gridcolor": "white",
         "gridwidth": 2,
         "title": {
          "text": "<b>Loss</b>"
         },
         "type": "log"
        }
       }
      }
     },
     "metadata": {},
     "output_type": "display_data"
    },
    {
     "data": {
      "application/vnd.plotly.v1+json": {
       "config": {
        "plotlyServerURL": "https://plot.ly"
       },
       "data": [
        {
         "hovertemplate": "Constant<br>Step: %{x}<br>Learning Rate: %{y:.4f}<extra></extra>",
         "line": {
          "color": "rgb(229,68,68)",
          "width": 3
         },
         "mode": "lines",
         "type": "scatter",
         "x": [
          0,
          1,
          2,
          3,
          4,
          5,
          6,
          7,
          8,
          9,
          10,
          11,
          12,
          13,
          14,
          15,
          16,
          17,
          18,
          19,
          20,
          21,
          22,
          23,
          24,
          25,
          26,
          27,
          28,
          29,
          30,
          31,
          32,
          33,
          34,
          35,
          36,
          37,
          38,
          39,
          40,
          41,
          42,
          43,
          44,
          45,
          46,
          47,
          48,
          49
         ],
         "y": [
          0.0006,
          0.0006,
          0.0006,
          0.0006,
          0.0006,
          0.0006,
          0.0006,
          0.0006,
          0.0006,
          0.0006,
          0.0006,
          0.0006,
          0.0006,
          0.0006,
          0.0006,
          0.0006,
          0.0006,
          0.0006,
          0.0006,
          0.0006,
          0.0006,
          0.0006,
          0.0006,
          0.0006,
          0.0006,
          0.0006,
          0.0006,
          0.0006,
          0.0006,
          0.0006,
          0.0006,
          0.0006,
          0.0006,
          0.0006,
          0.0006,
          0.0006,
          0.0006,
          0.0006,
          0.0006,
          0.0006,
          0.0006,
          0.0006,
          0.0006,
          0.0006,
          0.0006,
          0.0006,
          0.0006,
          0.0006,
          0.0006,
          0.0006
         ]
        },
        {
         "hovertemplate": "Step<br>Step: %{x}<br>Learning Rate: %{y:.4f}<extra></extra>",
         "line": {
          "color": "rgb(229,165,68)",
          "width": 3
         },
         "mode": "lines",
         "type": "scatter",
         "x": [
          0,
          1,
          2,
          3,
          4,
          5,
          6,
          7,
          8,
          9,
          10,
          11,
          12,
          13,
          14,
          15,
          16,
          17,
          18,
          19,
          20,
          21,
          22,
          23,
          24,
          25,
          26,
          27,
          28,
          29,
          30,
          31,
          32,
          33,
          34,
          35,
          36,
          37,
          38,
          39,
          40,
          41,
          42,
          43,
          44,
          45,
          46,
          47,
          48,
          49
         ],
         "y": [
          0.0006,
          0.0006,
          0.0006,
          0.0006,
          0.0006,
          0.0006,
          0.0006,
          0.0006,
          0.0006,
          0.0006,
          0.0006,
          0.0006,
          0.0006,
          0.0006,
          0.0006,
          0.0006,
          0.0006,
          0.0006,
          0.0006,
          0.0006,
          0.0006,
          0.0006,
          0.0006,
          0.0006,
          0.0006,
          0.0006,
          0.0006,
          0.0006,
          0.0006,
          0.0006,
          0.0006,
          0.0006,
          0.0006,
          0.0006,
          0.0006,
          0.0006,
          0.0006,
          0.0006,
          0.0006,
          0.0006,
          0.0006,
          0.0006,
          0.0006,
          0.0006,
          0.0006,
          0.0006,
          0.0006,
          0.0006,
          0.0006,
          0.0006
         ]
        },
        {
         "hovertemplate": "MultiStep<br>Step: %{x}<br>Learning Rate: %{y:.4f}<extra></extra>",
         "line": {
          "color": "rgb(197,229,68)",
          "width": 3
         },
         "mode": "lines",
         "type": "scatter",
         "x": [
          0,
          1,
          2,
          3,
          4,
          5,
          6,
          7,
          8,
          9,
          10,
          11,
          12,
          13,
          14,
          15,
          16,
          17,
          18,
          19,
          20,
          21,
          22,
          23,
          24,
          25,
          26,
          27,
          28,
          29,
          30,
          31,
          32,
          33,
          34,
          35,
          36,
          37,
          38,
          39,
          40,
          41,
          42,
          43,
          44,
          45,
          46,
          47,
          48,
          49
         ],
         "y": [
          0.0006,
          0.0006,
          0.0006,
          0.0006,
          0.0006,
          0.0006,
          0.0006,
          0.0006,
          0.0006,
          0.0006,
          0.0006,
          0.0006,
          0.0006,
          0.0006,
          0.0006,
          0.00057,
          0.00057,
          0.00057,
          0.00057,
          0.00057,
          0.00057,
          0.00057,
          0.00057,
          0.00057,
          0.00057,
          0.00057,
          0.00057,
          0.00057,
          0.00057,
          0.00057,
          0.0005414999999999999,
          0.0005414999999999999,
          0.0005414999999999999,
          0.0005414999999999999,
          0.0005414999999999999,
          0.0005414999999999999,
          0.0005414999999999999,
          0.0005414999999999999,
          0.0005414999999999999,
          0.0005414999999999999,
          0.0005414999999999999,
          0.0005414999999999999,
          0.0005414999999999999,
          0.0005414999999999999,
          0.0005414999999999999,
          0.0005144249999999999,
          0.0005144249999999999,
          0.0005144249999999999,
          0.0005144249999999999,
          0.0005144249999999999
         ]
        },
        {
         "hovertemplate": "Exponential<br>Step: %{x}<br>Learning Rate: %{y:.4f}<extra></extra>",
         "line": {
          "color": "rgb(100,229,68)",
          "width": 3
         },
         "mode": "lines",
         "type": "scatter",
         "x": [
          0,
          1,
          2,
          3,
          4,
          5,
          6,
          7,
          8,
          9,
          10,
          11,
          12,
          13,
          14,
          15,
          16,
          17,
          18,
          19,
          20,
          21,
          22,
          23,
          24,
          25,
          26,
          27,
          28,
          29,
          30,
          31,
          32,
          33,
          34,
          35,
          36,
          37,
          38,
          39,
          40,
          41,
          42,
          43,
          44,
          45,
          46,
          47,
          48,
          49
         ],
         "y": [
          0.0006,
          0.00057,
          0.0005414999999999999,
          0.0005144249999999999,
          0.0004887037499999999,
          0.0004642685624999998,
          0.0004410551343749998,
          0.0004190023776562498,
          0.00039805225877343733,
          0.00037814964583476543,
          0.00035924216354302717,
          0.0003412800553658758,
          0.00032421605259758194,
          0.00030800524996770287,
          0.0002926049874693177,
          0.0002779747380958518,
          0.0002640760011910592,
          0.0002508722011315062,
          0.0002383285910749309,
          0.00022641216152118434,
          0.00021509155344512511,
          0.00020433697577286887,
          0.0001941201269842254,
          0.00018441412063501412,
          0.00017519341460326342,
          0.00016643374387310025,
          0.0001581120566794452,
          0.00015020645384547295,
          0.0001426961311531993,
          0.00013556132459553933,
          0.00012878325836576234,
          0.00012234409544747423,
          0.00011622689067510051,
          0.00011041554614134548,
          0.0001048947688342782,
          0.00009965003039256429,
          0.00009466752887293607,
          0.00008993415242928927,
          0.0000854374448078248,
          0.00008116557256743354,
          0.00007710729393906187,
          0.00007325192924210876,
          0.00006958933278000333,
          0.00006610986614100316,
          0.000062804372833953,
          0.00005966415419225534,
          0.00005668094648264257,
          0.00005384689915851045,
          0.00005115455420058492,
          0.000048596826490555675
         ]
        },
        {
         "hovertemplate": "CosineAnnealing<br>Step: %{x}<br>Learning Rate: %{y:.4f}<extra></extra>",
         "line": {
          "color": "rgb(68,229,133)",
          "width": 3
         },
         "mode": "lines",
         "type": "scatter",
         "x": [
          0,
          1,
          2,
          3,
          4,
          5,
          6,
          7,
          8,
          9,
          10,
          11,
          12,
          13,
          14,
          15,
          16,
          17,
          18,
          19,
          20,
          21,
          22,
          23,
          24,
          25,
          26,
          27,
          28,
          29,
          30,
          31,
          32,
          33,
          34,
          35,
          36,
          37,
          38,
          39,
          40,
          41,
          42,
          43,
          44,
          45,
          46,
          47,
          48,
          49
         ],
         "y": [
          0,
          0.000059999999999999995,
          0.00011999999999999999,
          0.00017999999999999998,
          0.00023999999999999998,
          0.0003,
          0.00035999999999999997,
          0.00041999999999999996,
          0.00047999999999999996,
          0.0005399999999999999,
          0.0005999999999999998,
          0.0005991676801079444,
          0.0005966758519606872,
          0.0005925398785073725,
          0.0005867852593996914,
          0.0005794474737780473,
          0.0005705717615308592,
          0.0005602128443756048,
          0.0005484345884812357,
          0.0005353096107120083,
          0.0005209188309203677,
          0.0005053509730491494,
          0.0004887020181189676,
          0.0004710746124733061,
          0.0004525774349296775,
          0.00043332452673857416,
          0.00041343458848123576,
          0.00039303024824109445,
          0.0003722373055608623,
          0.0003511839558465181,
          0.00032999999999999994,
          0.0003088160441534818,
          0.0002877626944391376,
          0.0002669697517589056,
          0.0002465654115187642,
          0.00022667547326142573,
          0.00020742256507032234,
          0.00018892538752669378,
          0.00017129798188103226,
          0.00015464902695085044,
          0.00013908116907963218,
          0.00012469038928799163,
          0.00011156541151876421,
          0.0000997871556243951,
          0.00008942823846914069,
          0.00008055252622195258,
          0.00007321474060030853,
          0.00006746012149262733,
          0.00006332414803931283,
          0.00006083231989205545
         ]
        },
        {
         "hovertemplate": "Linear<br>Step: %{x}<br>Learning Rate: %{y:.4f}<extra></extra>",
         "line": {
          "color": "rgb(68,229,229)",
          "width": 3
         },
         "mode": "lines",
         "type": "scatter",
         "x": [
          0,
          1,
          2,
          3,
          4,
          5,
          6,
          7,
          8,
          9,
          10,
          11,
          12,
          13,
          14,
          15,
          16,
          17,
          18,
          19,
          20,
          21,
          22,
          23,
          24,
          25,
          26,
          27,
          28,
          29,
          30,
          31,
          32,
          33,
          34,
          35,
          36,
          37,
          38,
          39,
          40,
          41,
          42,
          43,
          44,
          45,
          46,
          47,
          48,
          49
         ],
         "y": [
          0.0006,
          0.000588,
          0.0005759999999999999,
          0.0005639999999999999,
          0.000552,
          0.00054,
          0.0005279999999999999,
          0.000516,
          0.0005039999999999999,
          0.000492,
          0.00047999999999999996,
          0.000468,
          0.00045599999999999997,
          0.00044399999999999995,
          0.00043199999999999993,
          0.00041999999999999996,
          0.00040799999999999994,
          0.0003959999999999999,
          0.00038399999999999996,
          0.000372,
          0.00035999999999999997,
          0.000348,
          0.000336,
          0.000324,
          0.000312,
          0.0003,
          0.00028799999999999995,
          0.00027599999999999993,
          0.00026399999999999997,
          0.000252,
          0.00023999999999999998,
          0.00022799999999999999,
          0.00021599999999999996,
          0.00020399999999999997,
          0.00019199999999999995,
          0.00018,
          0.000168,
          0.000156,
          0.00014399999999999998,
          0.00013199999999999998,
          0.00011999999999999996,
          0.00010800000000000002,
          0.00009600000000000002,
          0.000084,
          0.00007199999999999999,
          0.00005999999999999998,
          0.000047999999999999974,
          0.00003600000000000003,
          0.000024000000000000018,
          0.000012000000000000009
         ]
        },
        {
         "hovertemplate": "Polynomial<br>Step: %{x}<br>Learning Rate: %{y:.4f}<extra></extra>",
         "line": {
          "color": "rgb(68,133,229)",
          "width": 3
         },
         "mode": "lines",
         "type": "scatter",
         "x": [
          0,
          1,
          2,
          3,
          4,
          5,
          6,
          7,
          8,
          9,
          10,
          11,
          12,
          13,
          14,
          15,
          16,
          17,
          18,
          19,
          20,
          21,
          22,
          23,
          24,
          25,
          26,
          27,
          28,
          29,
          30,
          31,
          32,
          33,
          34,
          35,
          36,
          37,
          38,
          39,
          40,
          41,
          42,
          43,
          44,
          45,
          46,
          47,
          48,
          49
         ],
         "y": [
          0.0006,
          0.000577428,
          0.000555312,
          0.0005336519999999999,
          0.000512448,
          0.0004917,
          0.000471408,
          0.00045157199999999997,
          0.00043219199999999997,
          0.00041326800000000006,
          0.00039480000000000006,
          0.000376788,
          0.000359232,
          0.000342132,
          0.00032548799999999997,
          0.0003093,
          0.00029356799999999996,
          0.00027829199999999997,
          0.000263472,
          0.000249108,
          0.00023519999999999997,
          0.00022174800000000005,
          0.000208752,
          0.000196212,
          0.000184128,
          0.0001725,
          0.000161328,
          0.00015061199999999997,
          0.00014035199999999997,
          0.00013054800000000002,
          0.0001212,
          0.000112308,
          0.00010387199999999998,
          0.00009589199999999998,
          0.00008836799999999998,
          0.00008130000000000001,
          0.000074688,
          0.000068532,
          0.000062832,
          0.00005758799999999999,
          0.00005279999999999999,
          0.00004846800000000001,
          0.00004459200000000001,
          0.000041172000000000005,
          0.000038208,
          0.0000357,
          0.000033648,
          0.000032052000000000004,
          0.000030912000000000005,
          0.000030228000000000003
         ]
        },
        {
         "hovertemplate": "Cyclic<br>Step: %{x}<br>Learning Rate: %{y:.4f}<extra></extra>",
         "line": {
          "color": "rgb(100,68,229)",
          "width": 3
         },
         "mode": "lines",
         "type": "scatter",
         "x": [
          0,
          1,
          2,
          3,
          4,
          5,
          6,
          7,
          8,
          9,
          10,
          11,
          12,
          13,
          14,
          15,
          16,
          17,
          18,
          19,
          20,
          21,
          22,
          23,
          24,
          25,
          26,
          27,
          28,
          29,
          30,
          31,
          32,
          33,
          34,
          35,
          36,
          37,
          38,
          39,
          40,
          41,
          42,
          43,
          44,
          45,
          46,
          47,
          48,
          49
         ],
         "y": [
          0.000059999999999999995,
          0.0000708,
          0.0000816,
          0.00009240000000000002,
          0.00010320000000000003,
          0.00011400000000000003,
          0.00012480000000000005,
          0.00013560000000000004,
          0.00014639999999999993,
          0.00015719999999999995,
          0.00016799999999999996,
          0.00017879999999999996,
          0.00018959999999999997,
          0.00020039999999999997,
          0.00021119999999999998,
          0.00022199999999999998,
          0.0002328,
          0.0002436,
          0.0002543999999999999,
          0.0002651999999999999,
          0.0002759999999999999,
          0.0002867999999999999,
          0.0002975999999999999,
          0.0003083999999999999,
          0.00031919999999999995,
          0.00032999999999999994,
          0.00034079999999999994,
          0.0003516,
          0.00036239999999999997,
          0.00037319999999999996,
          0.00038399999999999996,
          0.0003948,
          0.0004056,
          0.0004164,
          0.00042720000000000003,
          0.0004379999999999999,
          0.0004487999999999999,
          0.0004595999999999999,
          0.00047039999999999994,
          0.00048119999999999993,
          0.0004919999999999999,
          0.0005027999999999999,
          0.0005135999999999999,
          0.0005243999999999998,
          0.0005351999999999998,
          0.0005459999999999998,
          0.0005567999999999999,
          0.0005675999999999999,
          0.0005784,
          0.0005891999999999998
         ]
        },
        {
         "hovertemplate": "OneCycle<br>Step: %{x}<br>Learning Rate: %{y:.4f}<extra></extra>",
         "line": {
          "color": "rgb(197,68,229)",
          "width": 3
         },
         "mode": "lines",
         "type": "scatter",
         "x": [
          0,
          1,
          2,
          3,
          4,
          5,
          6,
          7,
          8,
          9,
          10,
          11,
          12,
          13,
          14,
          15,
          16,
          17,
          18,
          19,
          20,
          21,
          22,
          23,
          24,
          25,
          26,
          27,
          28,
          29,
          30,
          31,
          32,
          33,
          34,
          35,
          36,
          37,
          38,
          39,
          40,
          41,
          42,
          43,
          44,
          45,
          46,
          47,
          48,
          49
         ],
         "y": [
          0.000059999999999999995,
          0.00009599999999999999,
          0.00013199999999999998,
          0.00016799999999999996,
          0.00020399999999999997,
          0.00023999999999999995,
          0.000276,
          0.00031199999999999994,
          0.00034799999999999995,
          0.0003839999999999999,
          0.0004199999999999999,
          0.0004559999999999999,
          0.0004919999999999999,
          0.0005279999999999999,
          0.0005639999999999998,
          0.0005999999999999998,
          0.0005845714285714285,
          0.0005691428571428571,
          0.0005537142857142856,
          0.0005382857142857142,
          0.0005228571428571428,
          0.0005074285714285714,
          0.0004919999999999999,
          0.0004765714285714285,
          0.0004611428571428571,
          0.0004457142857142857,
          0.00043028571428571427,
          0.0004148571428571428,
          0.0003994285714285714,
          0.000384,
          0.0003685714285714286,
          0.00035314285714285715,
          0.0003377142857142857,
          0.0003222857142857143,
          0.0003068571428571429,
          0.00029142857142857144,
          0.00027600000000000004,
          0.0002605714285714286,
          0.0002451428571428572,
          0.00022971428571428573,
          0.00021428571428571427,
          0.00019885714285714287,
          0.00018342857142857142,
          0.00016800000000000002,
          0.00015257142857142856,
          0.00013714285714285722,
          0.00012171428571428576,
          0.00010628571428571436,
          0.00009085714285714296,
          0.00007542857142857145
         ]
        },
        {
         "hovertemplate": "CosineAnnealingWarmRestarts<br>Step: %{x}<br>Learning Rate: %{y:.4f}<extra></extra>",
         "line": {
          "color": "rgb(229,68,165)",
          "width": 3
         },
         "mode": "lines",
         "type": "scatter",
         "x": [
          0,
          1,
          2,
          3,
          4,
          5,
          6,
          7,
          8,
          9,
          10,
          11,
          12,
          13,
          14,
          15,
          16,
          17,
          18,
          19,
          20,
          21,
          22,
          23,
          24,
          25,
          26,
          27,
          28,
          29,
          30,
          31,
          32,
          33,
          34,
          35,
          36,
          37,
          38,
          39,
          40,
          41,
          42,
          43,
          44,
          45,
          46,
          47,
          48,
          49
         ],
         "y": [
          0.0005999999999999998,
          0.0005867852593996914,
          0.0005484345884812357,
          0.0004887020181189676,
          0.00041343458848123576,
          0.00032999999999999994,
          0.0002465654115187642,
          0.00017129798188103226,
          0.00011156541151876421,
          0.00007321474060030853,
          0.0005999999999999998,
          0.0005867852593996914,
          0.0005484345884812357,
          0.0004887020181189676,
          0.00041343458848123576,
          0.00032999999999999994,
          0.0002465654115187642,
          0.00017129798188103226,
          0.00011156541151876421,
          0.00007321474060030853,
          0.0005999999999999998,
          0.0005867852593996914,
          0.0005484345884812357,
          0.0004887020181189676,
          0.00041343458848123576,
          0.00032999999999999994,
          0.0002465654115187642,
          0.00017129798188103226,
          0.00011156541151876421,
          0.00007321474060030853,
          0.0005999999999999998,
          0.0005867852593996914,
          0.0005484345884812357,
          0.0004887020181189676,
          0.00041343458848123576,
          0.00032999999999999994,
          0.0002465654115187642,
          0.00017129798188103226,
          0.00011156541151876421,
          0.00007321474060030853,
          0.0005999999999999998,
          0.0005867852593996914,
          0.0005484345884812357,
          0.0004887020181189676,
          0.00041343458848123576,
          0.00032999999999999994,
          0.0002465654115187642,
          0.00017129798188103226,
          0.00011156541151876421,
          0.00007321474060030853
         ]
        }
       ],
       "layout": {
        "annotations": [
         {
          "align": "left",
          "bgcolor": "rgba(255,255,255,0.8)",
          "bordercolor": "rgb(229,68,68)",
          "borderpad": 4,
          "borderwidth": 2,
          "font": {
           "color": "rgb(229,68,68)",
           "size": 12
          },
          "showarrow": false,
          "text": "<b>Constant</b><br>Stability: 0.4972<br>Convergence: Step 13",
          "x": 1.02,
          "xref": "paper",
          "y": 0.98,
          "yref": "paper"
         },
         {
          "align": "left",
          "bgcolor": "rgba(255,255,255,0.8)",
          "bordercolor": "rgb(229,165,68)",
          "borderpad": 4,
          "borderwidth": 2,
          "font": {
           "color": "rgb(229,165,68)",
           "size": 12
          },
          "showarrow": false,
          "text": "<b>Step</b><br>Stability: 0.8183<br>Convergence: Step 1",
          "x": 1.02,
          "xref": "paper",
          "y": 0.88,
          "yref": "paper"
         },
         {
          "align": "left",
          "bgcolor": "rgba(255,255,255,0.8)",
          "bordercolor": "rgb(197,229,68)",
          "borderpad": 4,
          "borderwidth": 2,
          "font": {
           "color": "rgb(197,229,68)",
           "size": 12
          },
          "showarrow": false,
          "text": "<b>MultiStep</b><br>Stability: 0.8611<br>Convergence: Step 15",
          "x": 1.02,
          "xref": "paper",
          "y": 0.78,
          "yref": "paper"
         },
         {
          "align": "left",
          "bgcolor": "rgba(255,255,255,0.8)",
          "bordercolor": "rgb(100,229,68)",
          "borderpad": 4,
          "borderwidth": 2,
          "font": {
           "color": "rgb(100,229,68)",
           "size": 12
          },
          "showarrow": false,
          "text": "<b>Exponential</b><br>Stability: 0.9187<br>Convergence: Step 6",
          "x": 1.02,
          "xref": "paper",
          "y": 0.6799999999999999,
          "yref": "paper"
         },
         {
          "align": "left",
          "bgcolor": "rgba(255,255,255,0.8)",
          "bordercolor": "rgb(68,229,133)",
          "borderpad": 4,
          "borderwidth": 2,
          "font": {
           "color": "rgb(68,229,133)",
           "size": 12
          },
          "showarrow": false,
          "text": "<b>CosineAnnealing</b><br>Stability: 0.8792<br>Convergence: Step 4",
          "x": 1.02,
          "xref": "paper",
          "y": 0.58,
          "yref": "paper"
         },
         {
          "align": "left",
          "bgcolor": "rgba(255,255,255,0.8)",
          "bordercolor": "rgb(68,229,229)",
          "borderpad": 4,
          "borderwidth": 2,
          "font": {
           "color": "rgb(68,229,229)",
           "size": 12
          },
          "showarrow": false,
          "text": "<b>Linear</b><br>Stability: 0.8900<br>Convergence: Step 20",
          "x": 1.02,
          "xref": "paper",
          "y": 0.48,
          "yref": "paper"
         },
         {
          "align": "left",
          "bgcolor": "rgba(255,255,255,0.8)",
          "bordercolor": "rgb(68,133,229)",
          "borderpad": 4,
          "borderwidth": 2,
          "font": {
           "color": "rgb(68,133,229)",
           "size": 12
          },
          "showarrow": false,
          "text": "<b>Polynomial</b><br>Stability: 0.8238<br>Convergence: Step 11",
          "x": 1.02,
          "xref": "paper",
          "y": 0.3799999999999999,
          "yref": "paper"
         },
         {
          "align": "left",
          "bgcolor": "rgba(255,255,255,0.8)",
          "bordercolor": "rgb(100,68,229)",
          "borderpad": 4,
          "borderwidth": 2,
          "font": {
           "color": "rgb(100,68,229)",
           "size": 12
          },
          "showarrow": false,
          "text": "<b>Cyclic</b><br>Stability: 0.9388<br>Convergence: Step 9",
          "x": 1.02,
          "xref": "paper",
          "y": 0.2799999999999999,
          "yref": "paper"
         },
         {
          "align": "left",
          "bgcolor": "rgba(255,255,255,0.8)",
          "bordercolor": "rgb(197,68,229)",
          "borderpad": 4,
          "borderwidth": 2,
          "font": {
           "color": "rgb(197,68,229)",
           "size": 12
          },
          "showarrow": false,
          "text": "<b>OneCycle</b><br>Stability: 0.8840<br>Convergence: Step 48",
          "x": 1.02,
          "xref": "paper",
          "y": 0.17999999999999994,
          "yref": "paper"
         },
         {
          "align": "left",
          "bgcolor": "rgba(255,255,255,0.8)",
          "bordercolor": "rgb(229,68,165)",
          "borderpad": 4,
          "borderwidth": 2,
          "font": {
           "color": "rgb(229,68,165)",
           "size": 12
          },
          "showarrow": false,
          "text": "<b>CosineAnnealingWarmRestarts</b><br>Stability: 0.8027<br>Convergence: Did not converge",
          "x": 1.02,
          "xref": "paper",
          "y": 0.07999999999999996,
          "yref": "paper"
         }
        ],
        "font": {
         "color": "#444",
         "family": "Arial",
         "size": 16
        },
        "height": 600,
        "hovermode": "x unified",
        "legend": {
         "font": {
          "size": 14
         }
        },
        "paper_bgcolor": "rgba(250,250,250,0.9)",
        "plot_bgcolor": "rgba(250,250,250,0.9)",
        "showlegend": true,
        "template": {
         "data": {
          "bar": [
           {
            "error_x": {
             "color": "#2a3f5f"
            },
            "error_y": {
             "color": "#2a3f5f"
            },
            "marker": {
             "line": {
              "color": "white",
              "width": 0.5
             },
             "pattern": {
              "fillmode": "overlay",
              "size": 10,
              "solidity": 0.2
             }
            },
            "type": "bar"
           }
          ],
          "barpolar": [
           {
            "marker": {
             "line": {
              "color": "white",
              "width": 0.5
             },
             "pattern": {
              "fillmode": "overlay",
              "size": 10,
              "solidity": 0.2
             }
            },
            "type": "barpolar"
           }
          ],
          "carpet": [
           {
            "aaxis": {
             "endlinecolor": "#2a3f5f",
             "gridcolor": "#C8D4E3",
             "linecolor": "#C8D4E3",
             "minorgridcolor": "#C8D4E3",
             "startlinecolor": "#2a3f5f"
            },
            "baxis": {
             "endlinecolor": "#2a3f5f",
             "gridcolor": "#C8D4E3",
             "linecolor": "#C8D4E3",
             "minorgridcolor": "#C8D4E3",
             "startlinecolor": "#2a3f5f"
            },
            "type": "carpet"
           }
          ],
          "choropleth": [
           {
            "colorbar": {
             "outlinewidth": 0,
             "ticks": ""
            },
            "type": "choropleth"
           }
          ],
          "contour": [
           {
            "colorbar": {
             "outlinewidth": 0,
             "ticks": ""
            },
            "colorscale": [
             [
              0,
              "#0d0887"
             ],
             [
              0.1111111111111111,
              "#46039f"
             ],
             [
              0.2222222222222222,
              "#7201a8"
             ],
             [
              0.3333333333333333,
              "#9c179e"
             ],
             [
              0.4444444444444444,
              "#bd3786"
             ],
             [
              0.5555555555555556,
              "#d8576b"
             ],
             [
              0.6666666666666666,
              "#ed7953"
             ],
             [
              0.7777777777777778,
              "#fb9f3a"
             ],
             [
              0.8888888888888888,
              "#fdca26"
             ],
             [
              1,
              "#f0f921"
             ]
            ],
            "type": "contour"
           }
          ],
          "contourcarpet": [
           {
            "colorbar": {
             "outlinewidth": 0,
             "ticks": ""
            },
            "type": "contourcarpet"
           }
          ],
          "heatmap": [
           {
            "colorbar": {
             "outlinewidth": 0,
             "ticks": ""
            },
            "colorscale": [
             [
              0,
              "#0d0887"
             ],
             [
              0.1111111111111111,
              "#46039f"
             ],
             [
              0.2222222222222222,
              "#7201a8"
             ],
             [
              0.3333333333333333,
              "#9c179e"
             ],
             [
              0.4444444444444444,
              "#bd3786"
             ],
             [
              0.5555555555555556,
              "#d8576b"
             ],
             [
              0.6666666666666666,
              "#ed7953"
             ],
             [
              0.7777777777777778,
              "#fb9f3a"
             ],
             [
              0.8888888888888888,
              "#fdca26"
             ],
             [
              1,
              "#f0f921"
             ]
            ],
            "type": "heatmap"
           }
          ],
          "heatmapgl": [
           {
            "colorbar": {
             "outlinewidth": 0,
             "ticks": ""
            },
            "colorscale": [
             [
              0,
              "#0d0887"
             ],
             [
              0.1111111111111111,
              "#46039f"
             ],
             [
              0.2222222222222222,
              "#7201a8"
             ],
             [
              0.3333333333333333,
              "#9c179e"
             ],
             [
              0.4444444444444444,
              "#bd3786"
             ],
             [
              0.5555555555555556,
              "#d8576b"
             ],
             [
              0.6666666666666666,
              "#ed7953"
             ],
             [
              0.7777777777777778,
              "#fb9f3a"
             ],
             [
              0.8888888888888888,
              "#fdca26"
             ],
             [
              1,
              "#f0f921"
             ]
            ],
            "type": "heatmapgl"
           }
          ],
          "histogram": [
           {
            "marker": {
             "pattern": {
              "fillmode": "overlay",
              "size": 10,
              "solidity": 0.2
             }
            },
            "type": "histogram"
           }
          ],
          "histogram2d": [
           {
            "colorbar": {
             "outlinewidth": 0,
             "ticks": ""
            },
            "colorscale": [
             [
              0,
              "#0d0887"
             ],
             [
              0.1111111111111111,
              "#46039f"
             ],
             [
              0.2222222222222222,
              "#7201a8"
             ],
             [
              0.3333333333333333,
              "#9c179e"
             ],
             [
              0.4444444444444444,
              "#bd3786"
             ],
             [
              0.5555555555555556,
              "#d8576b"
             ],
             [
              0.6666666666666666,
              "#ed7953"
             ],
             [
              0.7777777777777778,
              "#fb9f3a"
             ],
             [
              0.8888888888888888,
              "#fdca26"
             ],
             [
              1,
              "#f0f921"
             ]
            ],
            "type": "histogram2d"
           }
          ],
          "histogram2dcontour": [
           {
            "colorbar": {
             "outlinewidth": 0,
             "ticks": ""
            },
            "colorscale": [
             [
              0,
              "#0d0887"
             ],
             [
              0.1111111111111111,
              "#46039f"
             ],
             [
              0.2222222222222222,
              "#7201a8"
             ],
             [
              0.3333333333333333,
              "#9c179e"
             ],
             [
              0.4444444444444444,
              "#bd3786"
             ],
             [
              0.5555555555555556,
              "#d8576b"
             ],
             [
              0.6666666666666666,
              "#ed7953"
             ],
             [
              0.7777777777777778,
              "#fb9f3a"
             ],
             [
              0.8888888888888888,
              "#fdca26"
             ],
             [
              1,
              "#f0f921"
             ]
            ],
            "type": "histogram2dcontour"
           }
          ],
          "mesh3d": [
           {
            "colorbar": {
             "outlinewidth": 0,
             "ticks": ""
            },
            "type": "mesh3d"
           }
          ],
          "parcoords": [
           {
            "line": {
             "colorbar": {
              "outlinewidth": 0,
              "ticks": ""
             }
            },
            "type": "parcoords"
           }
          ],
          "pie": [
           {
            "automargin": true,
            "type": "pie"
           }
          ],
          "scatter": [
           {
            "fillpattern": {
             "fillmode": "overlay",
             "size": 10,
             "solidity": 0.2
            },
            "type": "scatter"
           }
          ],
          "scatter3d": [
           {
            "line": {
             "colorbar": {
              "outlinewidth": 0,
              "ticks": ""
             }
            },
            "marker": {
             "colorbar": {
              "outlinewidth": 0,
              "ticks": ""
             }
            },
            "type": "scatter3d"
           }
          ],
          "scattercarpet": [
           {
            "marker": {
             "colorbar": {
              "outlinewidth": 0,
              "ticks": ""
             }
            },
            "type": "scattercarpet"
           }
          ],
          "scattergeo": [
           {
            "marker": {
             "colorbar": {
              "outlinewidth": 0,
              "ticks": ""
             }
            },
            "type": "scattergeo"
           }
          ],
          "scattergl": [
           {
            "marker": {
             "colorbar": {
              "outlinewidth": 0,
              "ticks": ""
             }
            },
            "type": "scattergl"
           }
          ],
          "scattermapbox": [
           {
            "marker": {
             "colorbar": {
              "outlinewidth": 0,
              "ticks": ""
             }
            },
            "type": "scattermapbox"
           }
          ],
          "scatterpolar": [
           {
            "marker": {
             "colorbar": {
              "outlinewidth": 0,
              "ticks": ""
             }
            },
            "type": "scatterpolar"
           }
          ],
          "scatterpolargl": [
           {
            "marker": {
             "colorbar": {
              "outlinewidth": 0,
              "ticks": ""
             }
            },
            "type": "scatterpolargl"
           }
          ],
          "scatterternary": [
           {
            "marker": {
             "colorbar": {
              "outlinewidth": 0,
              "ticks": ""
             }
            },
            "type": "scatterternary"
           }
          ],
          "surface": [
           {
            "colorbar": {
             "outlinewidth": 0,
             "ticks": ""
            },
            "colorscale": [
             [
              0,
              "#0d0887"
             ],
             [
              0.1111111111111111,
              "#46039f"
             ],
             [
              0.2222222222222222,
              "#7201a8"
             ],
             [
              0.3333333333333333,
              "#9c179e"
             ],
             [
              0.4444444444444444,
              "#bd3786"
             ],
             [
              0.5555555555555556,
              "#d8576b"
             ],
             [
              0.6666666666666666,
              "#ed7953"
             ],
             [
              0.7777777777777778,
              "#fb9f3a"
             ],
             [
              0.8888888888888888,
              "#fdca26"
             ],
             [
              1,
              "#f0f921"
             ]
            ],
            "type": "surface"
           }
          ],
          "table": [
           {
            "cells": {
             "fill": {
              "color": "#EBF0F8"
             },
             "line": {
              "color": "white"
             }
            },
            "header": {
             "fill": {
              "color": "#C8D4E3"
             },
             "line": {
              "color": "white"
             }
            },
            "type": "table"
           }
          ]
         },
         "layout": {
          "annotationdefaults": {
           "arrowcolor": "#2a3f5f",
           "arrowhead": 0,
           "arrowwidth": 1
          },
          "autotypenumbers": "strict",
          "coloraxis": {
           "colorbar": {
            "outlinewidth": 0,
            "ticks": ""
           }
          },
          "colorscale": {
           "diverging": [
            [
             0,
             "#8e0152"
            ],
            [
             0.1,
             "#c51b7d"
            ],
            [
             0.2,
             "#de77ae"
            ],
            [
             0.3,
             "#f1b6da"
            ],
            [
             0.4,
             "#fde0ef"
            ],
            [
             0.5,
             "#f7f7f7"
            ],
            [
             0.6,
             "#e6f5d0"
            ],
            [
             0.7,
             "#b8e186"
            ],
            [
             0.8,
             "#7fbc41"
            ],
            [
             0.9,
             "#4d9221"
            ],
            [
             1,
             "#276419"
            ]
           ],
           "sequential": [
            [
             0,
             "#0d0887"
            ],
            [
             0.1111111111111111,
             "#46039f"
            ],
            [
             0.2222222222222222,
             "#7201a8"
            ],
            [
             0.3333333333333333,
             "#9c179e"
            ],
            [
             0.4444444444444444,
             "#bd3786"
            ],
            [
             0.5555555555555556,
             "#d8576b"
            ],
            [
             0.6666666666666666,
             "#ed7953"
            ],
            [
             0.7777777777777778,
             "#fb9f3a"
            ],
            [
             0.8888888888888888,
             "#fdca26"
            ],
            [
             1,
             "#f0f921"
            ]
           ],
           "sequentialminus": [
            [
             0,
             "#0d0887"
            ],
            [
             0.1111111111111111,
             "#46039f"
            ],
            [
             0.2222222222222222,
             "#7201a8"
            ],
            [
             0.3333333333333333,
             "#9c179e"
            ],
            [
             0.4444444444444444,
             "#bd3786"
            ],
            [
             0.5555555555555556,
             "#d8576b"
            ],
            [
             0.6666666666666666,
             "#ed7953"
            ],
            [
             0.7777777777777778,
             "#fb9f3a"
            ],
            [
             0.8888888888888888,
             "#fdca26"
            ],
            [
             1,
             "#f0f921"
            ]
           ]
          },
          "colorway": [
           "#636efa",
           "#EF553B",
           "#00cc96",
           "#ab63fa",
           "#FFA15A",
           "#19d3f3",
           "#FF6692",
           "#B6E880",
           "#FF97FF",
           "#FECB52"
          ],
          "font": {
           "color": "#2a3f5f"
          },
          "geo": {
           "bgcolor": "white",
           "lakecolor": "white",
           "landcolor": "white",
           "showlakes": true,
           "showland": true,
           "subunitcolor": "#C8D4E3"
          },
          "hoverlabel": {
           "align": "left"
          },
          "hovermode": "closest",
          "mapbox": {
           "style": "light"
          },
          "paper_bgcolor": "white",
          "plot_bgcolor": "white",
          "polar": {
           "angularaxis": {
            "gridcolor": "#EBF0F8",
            "linecolor": "#EBF0F8",
            "ticks": ""
           },
           "bgcolor": "white",
           "radialaxis": {
            "gridcolor": "#EBF0F8",
            "linecolor": "#EBF0F8",
            "ticks": ""
           }
          },
          "scene": {
           "xaxis": {
            "backgroundcolor": "white",
            "gridcolor": "#DFE8F3",
            "gridwidth": 2,
            "linecolor": "#EBF0F8",
            "showbackground": true,
            "ticks": "",
            "zerolinecolor": "#EBF0F8"
           },
           "yaxis": {
            "backgroundcolor": "white",
            "gridcolor": "#DFE8F3",
            "gridwidth": 2,
            "linecolor": "#EBF0F8",
            "showbackground": true,
            "ticks": "",
            "zerolinecolor": "#EBF0F8"
           },
           "zaxis": {
            "backgroundcolor": "white",
            "gridcolor": "#DFE8F3",
            "gridwidth": 2,
            "linecolor": "#EBF0F8",
            "showbackground": true,
            "ticks": "",
            "zerolinecolor": "#EBF0F8"
           }
          },
          "shapedefaults": {
           "line": {
            "color": "#2a3f5f"
           }
          },
          "ternary": {
           "aaxis": {
            "gridcolor": "#DFE8F3",
            "linecolor": "#A2B1C6",
            "ticks": ""
           },
           "baxis": {
            "gridcolor": "#DFE8F3",
            "linecolor": "#A2B1C6",
            "ticks": ""
           },
           "bgcolor": "white",
           "caxis": {
            "gridcolor": "#DFE8F3",
            "linecolor": "#A2B1C6",
            "ticks": ""
           }
          },
          "title": {
           "x": 0.05
          },
          "xaxis": {
           "automargin": true,
           "gridcolor": "#EBF0F8",
           "linecolor": "#EBF0F8",
           "ticks": "",
           "title": {
            "standoff": 15
           },
           "zerolinecolor": "#EBF0F8",
           "zerolinewidth": 2
          },
          "yaxis": {
           "automargin": true,
           "gridcolor": "#EBF0F8",
           "linecolor": "#EBF0F8",
           "ticks": "",
           "title": {
            "standoff": 15
           },
           "zerolinecolor": "#EBF0F8",
           "zerolinewidth": 2
          }
         }
        },
        "title": {
         "font": {
          "size": 24
         },
         "text": "<b>Learning Rate Schedule</b>"
        },
        "width": 900,
        "xaxis": {
         "gridcolor": "white",
         "gridwidth": 2,
         "title": {
          "text": "<b>Step</b>"
         }
        },
        "yaxis": {
         "gridcolor": "white",
         "gridwidth": 2,
         "title": {
          "text": "<b>Learning Rate</b>"
         },
         "type": "log"
        }
       }
      }
     },
     "metadata": {},
     "output_type": "display_data"
    },
    {
     "data": {
      "application/vnd.plotly.v1+json": {
       "config": {
        "plotlyServerURL": "https://plot.ly"
       },
       "data": [
        {
         "hovertemplate": "Constant<br>Step: %{x}<br>Gradient Norm: %{y:.4f}<extra></extra>",
         "line": {
          "color": "rgb(229,68,68)",
          "width": 3
         },
         "mode": "lines",
         "type": "scatter",
         "x": [
          0,
          1,
          2,
          3,
          4,
          5,
          6,
          7,
          8,
          9,
          10,
          11,
          12,
          13,
          14,
          15,
          16,
          17,
          18,
          19,
          20,
          21,
          22,
          23,
          24,
          25,
          26,
          27,
          28,
          29,
          30,
          31,
          32,
          33,
          34,
          35,
          36,
          37,
          38,
          39,
          40,
          41,
          42,
          43,
          44,
          45,
          46,
          47,
          48,
          49
         ],
         "y": [
          26.67566680908203,
          4.585662841796875,
          3.070460557937622,
          10.431038856506348,
          2.5302841663360596,
          3.066981792449951,
          2.8744759559631348,
          2.1519181728363037,
          1.2890831232070923,
          2.2826147079467773,
          1.3847930431365967,
          1.0705299377441406,
          1.5725048780441284,
          1.5235050916671753,
          1.1933482885360718,
          0.7969158291816711,
          1.7566678524017334,
          1.844900369644165,
          1.084592342376709,
          0.7111707925796509,
          0.5758937001228333,
          0.38876309990882874,
          0.5862681269645691,
          0.5497769713401794,
          0.5938197374343872,
          0.6395652294158936,
          0.4517872631549835,
          0.44993069767951965,
          0.7217840552330017,
          0.6258352398872375,
          0.3486260175704956,
          0.3889506459236145,
          0.4990812838077545,
          0.2601219415664673,
          0.5015272498130798,
          0.5783966779708862,
          0.42991650104522705,
          0.3719730079174042,
          0.4110731780529022,
          0.22090797126293182,
          0.47155919671058655,
          0.6139320135116577,
          0.2554986774921417,
          0.3959808647632599,
          0.3635592758655548,
          0.5797826647758484,
          0.2798630893230438,
          0.31656408309936523,
          0.2994578778743744,
          0.20661002397537231
         ]
        },
        {
         "hovertemplate": "Step<br>Step: %{x}<br>Gradient Norm: %{y:.4f}<extra></extra>",
         "line": {
          "color": "rgb(229,165,68)",
          "width": 3
         },
         "mode": "lines",
         "type": "scatter",
         "x": [
          0,
          1,
          2,
          3,
          4,
          5,
          6,
          7,
          8,
          9,
          10,
          11,
          12,
          13,
          14,
          15,
          16,
          17,
          18,
          19,
          20,
          21,
          22,
          23,
          24,
          25,
          26,
          27,
          28,
          29,
          30,
          31,
          32,
          33,
          34,
          35,
          36,
          37,
          38,
          39,
          40,
          41,
          42,
          43,
          44,
          45,
          46,
          47,
          48,
          49
         ],
         "y": [
          0.35423699021339417,
          0.293355792760849,
          0.22068706154823303,
          0.17872537672519684,
          0.2264062613248825,
          0.1785491406917572,
          0.15083564817905426,
          0.21364042162895203,
          0.17851629853248596,
          0.15505759418010712,
          0.18131427466869354,
          0.19702652096748352,
          0.6789411902427673,
          2.4688940048217773,
          0.5995420217514038,
          0.6353393197059631,
          0.4114229381084442,
          0.5534061193466187,
          0.6611325144767761,
          0.49705567955970764,
          0.9985266327857971,
          0.5337821841239929,
          0.5982211232185364,
          0.5490691065788269,
          0.4773515462875366,
          0.5518025755882263,
          0.49447867274284363,
          0.5201467871665955,
          0.39803293347358704,
          0.41228336095809937,
          0.6565910577774048,
          0.2890545129776001,
          0.4283592998981476,
          0.27192217111587524,
          0.3859163224697113,
          0.38338083028793335,
          0.23404869437217712,
          0.49217382073402405,
          0.40747901797294617,
          0.5157262682914734,
          0.5852688550949097,
          0.6271124482154846,
          0.39529237151145935,
          0.5220534801483154,
          0.7020466327667236,
          0.47504234313964844,
          0.5069045424461365,
          0.748708188533783,
          0.9576704502105713,
          0.5316042900085449
         ]
        },
        {
         "hovertemplate": "MultiStep<br>Step: %{x}<br>Gradient Norm: %{y:.4f}<extra></extra>",
         "line": {
          "color": "rgb(197,229,68)",
          "width": 3
         },
         "mode": "lines",
         "type": "scatter",
         "x": [
          0,
          1,
          2,
          3,
          4,
          5,
          6,
          7,
          8,
          9,
          10,
          11,
          12,
          13,
          14,
          15,
          16,
          17,
          18,
          19,
          20,
          21,
          22,
          23,
          24,
          25,
          26,
          27,
          28,
          29,
          30,
          31,
          32,
          33,
          34,
          35,
          36,
          37,
          38,
          39,
          40,
          41,
          42,
          43,
          44,
          45,
          46,
          47,
          48,
          49
         ],
         "y": [
          0.5706116557121277,
          0.7069305181503296,
          0.36303386092185974,
          0.683192789554596,
          0.6664145588874817,
          0.4498771131038666,
          0.7894022464752197,
          0.6997174024581909,
          0.38810908794403076,
          0.7197974324226379,
          0.27964019775390625,
          0.5785287022590637,
          0.5369445085525513,
          0.37828680872917175,
          0.730008065700531,
          1.1250065565109253,
          0.8238658905029297,
          0.5391506552696228,
          0.8545924425125122,
          0.7783365249633789,
          0.4201135039329529,
          0.8835646510124207,
          0.5801414847373962,
          1.1298894882202148,
          1.434186577796936,
          0.6101464629173279,
          1.3692476749420166,
          0.488959938287735,
          0.9134300351142883,
          0.7449629902839661,
          0.6676230430603027,
          0.9657388925552368,
          1.4898604154586792,
          0.6030234098434448,
          1.6437689065933228,
          1.437401533126831,
          1.1015357971191406,
          1.1007683277130127,
          1.3240960836410522,
          0.7494549751281738,
          1.5663601160049438,
          0.759446382522583,
          1.387679934501648,
          0.7205157279968262,
          0.9412282705307007,
          0.9938591718673706,
          0.8577197194099426,
          0.6861466765403748,
          0.6059920787811279,
          1.1363738775253296
         ]
        },
        {
         "hovertemplate": "Exponential<br>Step: %{x}<br>Gradient Norm: %{y:.4f}<extra></extra>",
         "line": {
          "color": "rgb(100,229,68)",
          "width": 3
         },
         "mode": "lines",
         "type": "scatter",
         "x": [
          0,
          1,
          2,
          3,
          4,
          5,
          6,
          7,
          8,
          9,
          10,
          11,
          12,
          13,
          14,
          15,
          16,
          17,
          18,
          19,
          20,
          21,
          22,
          23,
          24,
          25,
          26,
          27,
          28,
          29,
          30,
          31,
          32,
          33,
          34,
          35,
          36,
          37,
          38,
          39,
          40,
          41,
          42,
          43,
          44,
          45,
          46,
          47,
          48,
          49
         ],
         "y": [
          1.5553433895111084,
          0.9493110775947571,
          0.8605982661247253,
          1.408240795135498,
          1.0029370784759521,
          1.4280999898910522,
          1.1795766353607178,
          0.9214754700660706,
          0.7372048497200012,
          1.2149773836135864,
          1.5991114377975464,
          0.5870733857154846,
          1.9052886962890625,
          0.9919202327728271,
          2.662796974182129,
          2.483433485031128,
          1.3724560737609863,
          1.7906749248504639,
          1.2140039205551147,
          1.2870254516601562,
          1.15166437625885,
          0.9406474232673645,
          0.9034846425056458,
          0.8032644391059875,
          0.8102267980575562,
          0.7309815883636475,
          0.7876003980636597,
          0.6648092865943909,
          0.7924653887748718,
          0.4382378160953522,
          0.7912711501121521,
          0.3958423137664795,
          0.6127102375030518,
          0.6355357766151428,
          0.5237622261047363,
          0.5478938221931458,
          0.6007601618766785,
          0.3933221101760864,
          0.4485151767730713,
          0.41243937611579895,
          0.3664247989654541,
          0.5154091119766235,
          0.3473626375198364,
          0.39490729570388794,
          0.39174410700798035,
          0.2936359941959381,
          0.32329168915748596,
          0.44678065180778503,
          0.2070848047733307,
          0.3643808364868164
         ]
        },
        {
         "hovertemplate": "CosineAnnealing<br>Step: %{x}<br>Gradient Norm: %{y:.4f}<extra></extra>",
         "line": {
          "color": "rgb(68,229,133)",
          "width": 3
         },
         "mode": "lines",
         "type": "scatter",
         "x": [
          0,
          1,
          2,
          3,
          4,
          5,
          6,
          7,
          8,
          9,
          10,
          11,
          12,
          13,
          14,
          15,
          16,
          17,
          18,
          19,
          20,
          21,
          22,
          23,
          24,
          25,
          26,
          27,
          28,
          29,
          30,
          31,
          32,
          33,
          34,
          35,
          36,
          37,
          38,
          39,
          40,
          41,
          42,
          43,
          44,
          45,
          46,
          47,
          48,
          49
         ],
         "y": [
          0.3618796169757843,
          0.3574679493904114,
          0.8025983572006226,
          0.5387924909591675,
          1.5512361526489258,
          3.8842127323150635,
          1.255629539489746,
          3.8645033836364746,
          4.28415584564209,
          5.459625244140625,
          2.1997568607330322,
          4.134059906005859,
          4.462990760803223,
          2.033602714538574,
          4.569482803344727,
          1.9982993602752686,
          5.898216724395752,
          3.937087059020996,
          2.4025192260742188,
          1.1502667665481567,
          1.2531037330627441,
          1.130244255065918,
          2.2806556224823,
          0.9725870490074158,
          1.505903720855713,
          2.8483166694641113,
          2.1212563514709473,
          3.8036975860595703,
          3.2783608436584473,
          1.6453838348388672,
          1.6793441772460938,
          2.1214919090270996,
          1.6495513916015625,
          1.9164185523986816,
          1.926213026046753,
          1.0605822801589966,
          0.7972093820571899,
          1.089530110359192,
          0.48323410749435425,
          1.0223231315612793,
          0.4536691904067993,
          0.8334295153617859,
          0.5797505378723145,
          0.5826399326324463,
          0.427634060382843,
          0.5202484726905823,
          0.2516603469848633,
          0.5266750454902649,
          0.3346655070781708,
          0.4537696838378906
         ]
        },
        {
         "hovertemplate": "Linear<br>Step: %{x}<br>Gradient Norm: %{y:.4f}<extra></extra>",
         "line": {
          "color": "rgb(68,229,229)",
          "width": 3
         },
         "mode": "lines",
         "type": "scatter",
         "x": [
          0,
          1,
          2,
          3,
          4,
          5,
          6,
          7,
          8,
          9,
          10,
          11,
          12,
          13,
          14,
          15,
          16,
          17,
          18,
          19,
          20,
          21,
          22,
          23,
          24,
          25,
          26,
          27,
          28,
          29,
          30,
          31,
          32,
          33,
          34,
          35,
          36,
          37,
          38,
          39,
          40,
          41,
          42,
          43,
          44,
          45,
          46,
          47,
          48,
          49
         ],
         "y": [
          0.4750238358974457,
          4.594890117645264,
          4.007096290588379,
          2.4097023010253906,
          3.1772053241729736,
          2.6681442260742188,
          4.841940402984619,
          3.1606359481811523,
          2.297680377960205,
          5.3234381675720215,
          2.715136766433716,
          6.18685245513916,
          3.659428834915161,
          5.0946831703186035,
          3.7181355953216553,
          3.838447332382202,
          3.5651347637176514,
          2.314736843109131,
          1.672680377960205,
          3.4918549060821533,
          2.4099371433258057,
          2.936471462249756,
          2.621345281600952,
          2.417759418487549,
          1.541015625,
          2.1153674125671387,
          1.666235089302063,
          1.1320972442626953,
          2.4397904872894287,
          1.275400161743164,
          2.6194682121276855,
          1.4781959056854248,
          2.5772953033447266,
          1.9234997034072876,
          2.2550292015075684,
          2.0349268913269043,
          1.7447210550308228,
          1.1770206689834595,
          1.1757742166519165,
          1.2921863794326782,
          0.5934150218963623,
          1.5817935466766357,
          0.8448359370231628,
          1.8628448247909546,
          1.6120774745941162,
          0.8405015468597412,
          1.2585108280181885,
          1.0861315727233887,
          0.7539972066879272,
          0.7676877379417419
         ]
        },
        {
         "hovertemplate": "Polynomial<br>Step: %{x}<br>Gradient Norm: %{y:.4f}<extra></extra>",
         "line": {
          "color": "rgb(68,133,229)",
          "width": 3
         },
         "mode": "lines",
         "type": "scatter",
         "x": [
          0,
          1,
          2,
          3,
          4,
          5,
          6,
          7,
          8,
          9,
          10,
          11,
          12,
          13,
          14,
          15,
          16,
          17,
          18,
          19,
          20,
          21,
          22,
          23,
          24,
          25,
          26,
          27,
          28,
          29,
          30,
          31,
          32,
          33,
          34,
          35,
          36,
          37,
          38,
          39,
          40,
          41,
          42,
          43,
          44,
          45,
          46,
          47,
          48,
          49
         ],
         "y": [
          0.7103981971740723,
          10.260174751281738,
          7.011813640594482,
          3.2955198287963867,
          2.143934965133667,
          2.0851545333862305,
          2.919560432434082,
          1.6865874528884888,
          1.2933714389801025,
          1.295175552368164,
          3.965210437774658,
          2.0838117599487305,
          5.006943702697754,
          5.257255554199219,
          1.5244536399841309,
          1.4351526498794556,
          1.8727220296859741,
          1.5731977224349976,
          0.7861157059669495,
          2.224148750305176,
          1.1811354160308838,
          1.931947946548462,
          1.7750276327133179,
          1.1847261190414429,
          1.9514456987380981,
          1.221094012260437,
          1.6436964273452759,
          1.1831951141357422,
          1.2944504022598267,
          0.6487188935279846,
          1.4535892009735107,
          0.7098185420036316,
          0.8343074917793274,
          0.8495249152183533,
          1.088914155960083,
          0.7229148745536804,
          1.4038524627685547,
          0.886634886264801,
          1.1271872520446777,
          0.7737951278686523,
          0.9330345392227173,
          0.7055103182792664,
          0.9259369373321533,
          0.7373796105384827,
          0.41722092032432556,
          0.8548392057418823,
          0.4646110236644745,
          0.4318524897098541,
          0.5437374711036682,
          0.25073254108428955
         ]
        },
        {
         "hovertemplate": "Cyclic<br>Step: %{x}<br>Gradient Norm: %{y:.4f}<extra></extra>",
         "line": {
          "color": "rgb(100,68,229)",
          "width": 3
         },
         "mode": "lines",
         "type": "scatter",
         "x": [
          0,
          1,
          2,
          3,
          4,
          5,
          6,
          7,
          8,
          9,
          10,
          11,
          12,
          13,
          14,
          15,
          16,
          17,
          18,
          19,
          20,
          21,
          22,
          23,
          24,
          25,
          26,
          27,
          28,
          29,
          30,
          31,
          32,
          33,
          34,
          35,
          36,
          37,
          38,
          39,
          40,
          41,
          42,
          43,
          44,
          45,
          46,
          47,
          48,
          49
         ],
         "y": [
          0.45297783613204956,
          0.4461393356323242,
          0.7383037805557251,
          0.8457580208778381,
          1.610248327255249,
          1.4673908948898315,
          1.7744274139404297,
          1.332618236541748,
          2.041482925415039,
          3.2759523391723633,
          2.468041181564331,
          2.2718100547790527,
          2.5539309978485107,
          6.591931343078613,
          4.7747297286987305,
          7.958782196044922,
          7.558551788330078,
          3.6026065349578857,
          2.537557363510132,
          5.541408061981201,
          3.7109122276306152,
          5.272273063659668,
          4.575751304626465,
          3.547621726989746,
          5.435024738311768,
          4.701470851898193,
          4.283872604370117,
          4.737568378448486,
          4.590666770935059,
          1.4176950454711914,
          3.7141060829162598,
          3.4341890811920166,
          7.05892276763916,
          2.304133176803589,
          4.611079216003418,
          5.033637046813965,
          6.199711799621582,
          3.067563533782959,
          3.516740083694458,
          3.1184628009796143,
          7.082572937011719,
          2.626239776611328,
          7.449913024902344,
          4.3968505859375,
          4.417237758636475,
          5.508723258972168,
          6.084381580352783,
          2.40674090385437,
          7.197957992553711,
          4.888590335845947
         ]
        },
        {
         "hovertemplate": "OneCycle<br>Step: %{x}<br>Gradient Norm: %{y:.4f}<extra></extra>",
         "line": {
          "color": "rgb(197,68,229)",
          "width": 3
         },
         "mode": "lines",
         "type": "scatter",
         "x": [
          0,
          1,
          2,
          3,
          4,
          5,
          6,
          7,
          8,
          9,
          10,
          11,
          12,
          13,
          14,
          15,
          16,
          17,
          18,
          19,
          20,
          21,
          22,
          23,
          24,
          25,
          26,
          27,
          28,
          29,
          30,
          31,
          32,
          33,
          34,
          35,
          36,
          37,
          38,
          39,
          40,
          41,
          42,
          43,
          44,
          45,
          46,
          47,
          48,
          49
         ],
         "y": [
          2.4371981620788574,
          1.6161794662475586,
          2.476821184158325,
          3.345691680908203,
          2.5318856239318848,
          3.9790287017822266,
          2.277479410171509,
          5.104325771331787,
          3.188258409500122,
          6.222292900085449,
          5.716974258422852,
          5.310256481170654,
          3.003164768218994,
          8.403833389282227,
          6.254327297210693,
          6.528650760650635,
          6.005739688873291,
          2.4330248832702637,
          3.88340163230896,
          1.8894025087356567,
          2.126471996307373,
          3.0322749614715576,
          2.953544855117798,
          1.8903437852859497,
          4.189241409301758,
          1.8612463474273682,
          5.684104919433594,
          4.001407146453857,
          3.83416748046875,
          4.074050426483154,
          2.9841039180755615,
          2.6409854888916016,
          3.2756218910217285,
          2.589327573776245,
          3.551819086074829,
          3.0440971851348877,
          2.7583258152008057,
          2.0350441932678223,
          2.5323193073272705,
          1.7593070268630981,
          2.9728424549102783,
          2.9161012172698975,
          2.076338529586792,
          2.1205027103424072,
          1.1509385108947754,
          1.30888032913208,
          1.4744879007339478,
          1.7822037935256958,
          0.751339316368103,
          1.4292206764221191
         ]
        },
        {
         "hovertemplate": "CosineAnnealingWarmRestarts<br>Step: %{x}<br>Gradient Norm: %{y:.4f}<extra></extra>",
         "line": {
          "color": "rgb(229,68,165)",
          "width": 3
         },
         "mode": "lines",
         "type": "scatter",
         "x": [
          0,
          1,
          2,
          3,
          4,
          5,
          6,
          7,
          8,
          9,
          10,
          11,
          12,
          13,
          14,
          15,
          16,
          17,
          18,
          19,
          20,
          21,
          22,
          23,
          24,
          25,
          26,
          27,
          28,
          29,
          30,
          31,
          32,
          33,
          34,
          35,
          36,
          37,
          38,
          39,
          40,
          41,
          42,
          43,
          44,
          45,
          46,
          47,
          48,
          49
         ],
         "y": [
          0.7458710670471191,
          3.267704963684082,
          7.308073043823242,
          3.1993765830993652,
          7.113270282745361,
          4.676900863647461,
          4.209158897399902,
          3.7573442459106445,
          3.179851770401001,
          2.5449836254119873,
          1.6905646324157715,
          7.711007595062256,
          4.043039321899414,
          3.1406009197235107,
          3.4318950176239014,
          1.933784008026123,
          2.9814231395721436,
          2.0216708183288574,
          1.9200831651687622,
          1.4448994398117065,
          1.1213345527648926,
          5.514340877532959,
          3.5610949993133545,
          3.8253800868988037,
          3.160524368286133,
          2.093337059020996,
          1.9281584024429321,
          0.8140824437141418,
          1.1642532348632812,
          0.9144431948661804,
          0.6849215626716614,
          4.679464340209961,
          3.5194501876831055,
          2.8819146156311035,
          2.1861331462860107,
          1.837132453918457,
          1.602893352508545,
          1.0164486169815063,
          0.9357161521911621,
          0.844437301158905,
          0.6859905123710632,
          2.982970952987671,
          2.003549575805664,
          2.4771740436553955,
          1.5781551599502563,
          1.5239099264144897,
          1.0841773748397827,
          0.9557325839996338,
          1.0024824142456055,
          0.6453345417976379
         ]
        }
       ],
       "layout": {
        "annotations": [
         {
          "align": "left",
          "bgcolor": "rgba(255,255,255,0.8)",
          "bordercolor": "rgb(229,68,68)",
          "borderpad": 4,
          "borderwidth": 2,
          "font": {
           "color": "rgb(229,68,68)",
           "size": 12
          },
          "showarrow": false,
          "text": "<b>Constant</b><br>Stability: 0.4972<br>Convergence: Step 13",
          "x": 1.02,
          "xref": "paper",
          "y": 0.98,
          "yref": "paper"
         },
         {
          "align": "left",
          "bgcolor": "rgba(255,255,255,0.8)",
          "bordercolor": "rgb(229,165,68)",
          "borderpad": 4,
          "borderwidth": 2,
          "font": {
           "color": "rgb(229,165,68)",
           "size": 12
          },
          "showarrow": false,
          "text": "<b>Step</b><br>Stability: 0.8183<br>Convergence: Step 1",
          "x": 1.02,
          "xref": "paper",
          "y": 0.88,
          "yref": "paper"
         },
         {
          "align": "left",
          "bgcolor": "rgba(255,255,255,0.8)",
          "bordercolor": "rgb(197,229,68)",
          "borderpad": 4,
          "borderwidth": 2,
          "font": {
           "color": "rgb(197,229,68)",
           "size": 12
          },
          "showarrow": false,
          "text": "<b>MultiStep</b><br>Stability: 0.8611<br>Convergence: Step 15",
          "x": 1.02,
          "xref": "paper",
          "y": 0.78,
          "yref": "paper"
         },
         {
          "align": "left",
          "bgcolor": "rgba(255,255,255,0.8)",
          "bordercolor": "rgb(100,229,68)",
          "borderpad": 4,
          "borderwidth": 2,
          "font": {
           "color": "rgb(100,229,68)",
           "size": 12
          },
          "showarrow": false,
          "text": "<b>Exponential</b><br>Stability: 0.9187<br>Convergence: Step 6",
          "x": 1.02,
          "xref": "paper",
          "y": 0.6799999999999999,
          "yref": "paper"
         },
         {
          "align": "left",
          "bgcolor": "rgba(255,255,255,0.8)",
          "bordercolor": "rgb(68,229,133)",
          "borderpad": 4,
          "borderwidth": 2,
          "font": {
           "color": "rgb(68,229,133)",
           "size": 12
          },
          "showarrow": false,
          "text": "<b>CosineAnnealing</b><br>Stability: 0.8792<br>Convergence: Step 4",
          "x": 1.02,
          "xref": "paper",
          "y": 0.58,
          "yref": "paper"
         },
         {
          "align": "left",
          "bgcolor": "rgba(255,255,255,0.8)",
          "bordercolor": "rgb(68,229,229)",
          "borderpad": 4,
          "borderwidth": 2,
          "font": {
           "color": "rgb(68,229,229)",
           "size": 12
          },
          "showarrow": false,
          "text": "<b>Linear</b><br>Stability: 0.8900<br>Convergence: Step 20",
          "x": 1.02,
          "xref": "paper",
          "y": 0.48,
          "yref": "paper"
         },
         {
          "align": "left",
          "bgcolor": "rgba(255,255,255,0.8)",
          "bordercolor": "rgb(68,133,229)",
          "borderpad": 4,
          "borderwidth": 2,
          "font": {
           "color": "rgb(68,133,229)",
           "size": 12
          },
          "showarrow": false,
          "text": "<b>Polynomial</b><br>Stability: 0.8238<br>Convergence: Step 11",
          "x": 1.02,
          "xref": "paper",
          "y": 0.3799999999999999,
          "yref": "paper"
         },
         {
          "align": "left",
          "bgcolor": "rgba(255,255,255,0.8)",
          "bordercolor": "rgb(100,68,229)",
          "borderpad": 4,
          "borderwidth": 2,
          "font": {
           "color": "rgb(100,68,229)",
           "size": 12
          },
          "showarrow": false,
          "text": "<b>Cyclic</b><br>Stability: 0.9388<br>Convergence: Step 9",
          "x": 1.02,
          "xref": "paper",
          "y": 0.2799999999999999,
          "yref": "paper"
         },
         {
          "align": "left",
          "bgcolor": "rgba(255,255,255,0.8)",
          "bordercolor": "rgb(197,68,229)",
          "borderpad": 4,
          "borderwidth": 2,
          "font": {
           "color": "rgb(197,68,229)",
           "size": 12
          },
          "showarrow": false,
          "text": "<b>OneCycle</b><br>Stability: 0.8840<br>Convergence: Step 48",
          "x": 1.02,
          "xref": "paper",
          "y": 0.17999999999999994,
          "yref": "paper"
         },
         {
          "align": "left",
          "bgcolor": "rgba(255,255,255,0.8)",
          "bordercolor": "rgb(229,68,165)",
          "borderpad": 4,
          "borderwidth": 2,
          "font": {
           "color": "rgb(229,68,165)",
           "size": 12
          },
          "showarrow": false,
          "text": "<b>CosineAnnealingWarmRestarts</b><br>Stability: 0.8027<br>Convergence: Did not converge",
          "x": 1.02,
          "xref": "paper",
          "y": 0.07999999999999996,
          "yref": "paper"
         }
        ],
        "font": {
         "color": "#444",
         "family": "Arial",
         "size": 16
        },
        "height": 600,
        "hovermode": "x unified",
        "legend": {
         "font": {
          "size": 14
         }
        },
        "paper_bgcolor": "rgba(250,250,250,0.9)",
        "plot_bgcolor": "rgba(250,250,250,0.9)",
        "showlegend": true,
        "template": {
         "data": {
          "bar": [
           {
            "error_x": {
             "color": "#2a3f5f"
            },
            "error_y": {
             "color": "#2a3f5f"
            },
            "marker": {
             "line": {
              "color": "white",
              "width": 0.5
             },
             "pattern": {
              "fillmode": "overlay",
              "size": 10,
              "solidity": 0.2
             }
            },
            "type": "bar"
           }
          ],
          "barpolar": [
           {
            "marker": {
             "line": {
              "color": "white",
              "width": 0.5
             },
             "pattern": {
              "fillmode": "overlay",
              "size": 10,
              "solidity": 0.2
             }
            },
            "type": "barpolar"
           }
          ],
          "carpet": [
           {
            "aaxis": {
             "endlinecolor": "#2a3f5f",
             "gridcolor": "#C8D4E3",
             "linecolor": "#C8D4E3",
             "minorgridcolor": "#C8D4E3",
             "startlinecolor": "#2a3f5f"
            },
            "baxis": {
             "endlinecolor": "#2a3f5f",
             "gridcolor": "#C8D4E3",
             "linecolor": "#C8D4E3",
             "minorgridcolor": "#C8D4E3",
             "startlinecolor": "#2a3f5f"
            },
            "type": "carpet"
           }
          ],
          "choropleth": [
           {
            "colorbar": {
             "outlinewidth": 0,
             "ticks": ""
            },
            "type": "choropleth"
           }
          ],
          "contour": [
           {
            "colorbar": {
             "outlinewidth": 0,
             "ticks": ""
            },
            "colorscale": [
             [
              0,
              "#0d0887"
             ],
             [
              0.1111111111111111,
              "#46039f"
             ],
             [
              0.2222222222222222,
              "#7201a8"
             ],
             [
              0.3333333333333333,
              "#9c179e"
             ],
             [
              0.4444444444444444,
              "#bd3786"
             ],
             [
              0.5555555555555556,
              "#d8576b"
             ],
             [
              0.6666666666666666,
              "#ed7953"
             ],
             [
              0.7777777777777778,
              "#fb9f3a"
             ],
             [
              0.8888888888888888,
              "#fdca26"
             ],
             [
              1,
              "#f0f921"
             ]
            ],
            "type": "contour"
           }
          ],
          "contourcarpet": [
           {
            "colorbar": {
             "outlinewidth": 0,
             "ticks": ""
            },
            "type": "contourcarpet"
           }
          ],
          "heatmap": [
           {
            "colorbar": {
             "outlinewidth": 0,
             "ticks": ""
            },
            "colorscale": [
             [
              0,
              "#0d0887"
             ],
             [
              0.1111111111111111,
              "#46039f"
             ],
             [
              0.2222222222222222,
              "#7201a8"
             ],
             [
              0.3333333333333333,
              "#9c179e"
             ],
             [
              0.4444444444444444,
              "#bd3786"
             ],
             [
              0.5555555555555556,
              "#d8576b"
             ],
             [
              0.6666666666666666,
              "#ed7953"
             ],
             [
              0.7777777777777778,
              "#fb9f3a"
             ],
             [
              0.8888888888888888,
              "#fdca26"
             ],
             [
              1,
              "#f0f921"
             ]
            ],
            "type": "heatmap"
           }
          ],
          "heatmapgl": [
           {
            "colorbar": {
             "outlinewidth": 0,
             "ticks": ""
            },
            "colorscale": [
             [
              0,
              "#0d0887"
             ],
             [
              0.1111111111111111,
              "#46039f"
             ],
             [
              0.2222222222222222,
              "#7201a8"
             ],
             [
              0.3333333333333333,
              "#9c179e"
             ],
             [
              0.4444444444444444,
              "#bd3786"
             ],
             [
              0.5555555555555556,
              "#d8576b"
             ],
             [
              0.6666666666666666,
              "#ed7953"
             ],
             [
              0.7777777777777778,
              "#fb9f3a"
             ],
             [
              0.8888888888888888,
              "#fdca26"
             ],
             [
              1,
              "#f0f921"
             ]
            ],
            "type": "heatmapgl"
           }
          ],
          "histogram": [
           {
            "marker": {
             "pattern": {
              "fillmode": "overlay",
              "size": 10,
              "solidity": 0.2
             }
            },
            "type": "histogram"
           }
          ],
          "histogram2d": [
           {
            "colorbar": {
             "outlinewidth": 0,
             "ticks": ""
            },
            "colorscale": [
             [
              0,
              "#0d0887"
             ],
             [
              0.1111111111111111,
              "#46039f"
             ],
             [
              0.2222222222222222,
              "#7201a8"
             ],
             [
              0.3333333333333333,
              "#9c179e"
             ],
             [
              0.4444444444444444,
              "#bd3786"
             ],
             [
              0.5555555555555556,
              "#d8576b"
             ],
             [
              0.6666666666666666,
              "#ed7953"
             ],
             [
              0.7777777777777778,
              "#fb9f3a"
             ],
             [
              0.8888888888888888,
              "#fdca26"
             ],
             [
              1,
              "#f0f921"
             ]
            ],
            "type": "histogram2d"
           }
          ],
          "histogram2dcontour": [
           {
            "colorbar": {
             "outlinewidth": 0,
             "ticks": ""
            },
            "colorscale": [
             [
              0,
              "#0d0887"
             ],
             [
              0.1111111111111111,
              "#46039f"
             ],
             [
              0.2222222222222222,
              "#7201a8"
             ],
             [
              0.3333333333333333,
              "#9c179e"
             ],
             [
              0.4444444444444444,
              "#bd3786"
             ],
             [
              0.5555555555555556,
              "#d8576b"
             ],
             [
              0.6666666666666666,
              "#ed7953"
             ],
             [
              0.7777777777777778,
              "#fb9f3a"
             ],
             [
              0.8888888888888888,
              "#fdca26"
             ],
             [
              1,
              "#f0f921"
             ]
            ],
            "type": "histogram2dcontour"
           }
          ],
          "mesh3d": [
           {
            "colorbar": {
             "outlinewidth": 0,
             "ticks": ""
            },
            "type": "mesh3d"
           }
          ],
          "parcoords": [
           {
            "line": {
             "colorbar": {
              "outlinewidth": 0,
              "ticks": ""
             }
            },
            "type": "parcoords"
           }
          ],
          "pie": [
           {
            "automargin": true,
            "type": "pie"
           }
          ],
          "scatter": [
           {
            "fillpattern": {
             "fillmode": "overlay",
             "size": 10,
             "solidity": 0.2
            },
            "type": "scatter"
           }
          ],
          "scatter3d": [
           {
            "line": {
             "colorbar": {
              "outlinewidth": 0,
              "ticks": ""
             }
            },
            "marker": {
             "colorbar": {
              "outlinewidth": 0,
              "ticks": ""
             }
            },
            "type": "scatter3d"
           }
          ],
          "scattercarpet": [
           {
            "marker": {
             "colorbar": {
              "outlinewidth": 0,
              "ticks": ""
             }
            },
            "type": "scattercarpet"
           }
          ],
          "scattergeo": [
           {
            "marker": {
             "colorbar": {
              "outlinewidth": 0,
              "ticks": ""
             }
            },
            "type": "scattergeo"
           }
          ],
          "scattergl": [
           {
            "marker": {
             "colorbar": {
              "outlinewidth": 0,
              "ticks": ""
             }
            },
            "type": "scattergl"
           }
          ],
          "scattermapbox": [
           {
            "marker": {
             "colorbar": {
              "outlinewidth": 0,
              "ticks": ""
             }
            },
            "type": "scattermapbox"
           }
          ],
          "scatterpolar": [
           {
            "marker": {
             "colorbar": {
              "outlinewidth": 0,
              "ticks": ""
             }
            },
            "type": "scatterpolar"
           }
          ],
          "scatterpolargl": [
           {
            "marker": {
             "colorbar": {
              "outlinewidth": 0,
              "ticks": ""
             }
            },
            "type": "scatterpolargl"
           }
          ],
          "scatterternary": [
           {
            "marker": {
             "colorbar": {
              "outlinewidth": 0,
              "ticks": ""
             }
            },
            "type": "scatterternary"
           }
          ],
          "surface": [
           {
            "colorbar": {
             "outlinewidth": 0,
             "ticks": ""
            },
            "colorscale": [
             [
              0,
              "#0d0887"
             ],
             [
              0.1111111111111111,
              "#46039f"
             ],
             [
              0.2222222222222222,
              "#7201a8"
             ],
             [
              0.3333333333333333,
              "#9c179e"
             ],
             [
              0.4444444444444444,
              "#bd3786"
             ],
             [
              0.5555555555555556,
              "#d8576b"
             ],
             [
              0.6666666666666666,
              "#ed7953"
             ],
             [
              0.7777777777777778,
              "#fb9f3a"
             ],
             [
              0.8888888888888888,
              "#fdca26"
             ],
             [
              1,
              "#f0f921"
             ]
            ],
            "type": "surface"
           }
          ],
          "table": [
           {
            "cells": {
             "fill": {
              "color": "#EBF0F8"
             },
             "line": {
              "color": "white"
             }
            },
            "header": {
             "fill": {
              "color": "#C8D4E3"
             },
             "line": {
              "color": "white"
             }
            },
            "type": "table"
           }
          ]
         },
         "layout": {
          "annotationdefaults": {
           "arrowcolor": "#2a3f5f",
           "arrowhead": 0,
           "arrowwidth": 1
          },
          "autotypenumbers": "strict",
          "coloraxis": {
           "colorbar": {
            "outlinewidth": 0,
            "ticks": ""
           }
          },
          "colorscale": {
           "diverging": [
            [
             0,
             "#8e0152"
            ],
            [
             0.1,
             "#c51b7d"
            ],
            [
             0.2,
             "#de77ae"
            ],
            [
             0.3,
             "#f1b6da"
            ],
            [
             0.4,
             "#fde0ef"
            ],
            [
             0.5,
             "#f7f7f7"
            ],
            [
             0.6,
             "#e6f5d0"
            ],
            [
             0.7,
             "#b8e186"
            ],
            [
             0.8,
             "#7fbc41"
            ],
            [
             0.9,
             "#4d9221"
            ],
            [
             1,
             "#276419"
            ]
           ],
           "sequential": [
            [
             0,
             "#0d0887"
            ],
            [
             0.1111111111111111,
             "#46039f"
            ],
            [
             0.2222222222222222,
             "#7201a8"
            ],
            [
             0.3333333333333333,
             "#9c179e"
            ],
            [
             0.4444444444444444,
             "#bd3786"
            ],
            [
             0.5555555555555556,
             "#d8576b"
            ],
            [
             0.6666666666666666,
             "#ed7953"
            ],
            [
             0.7777777777777778,
             "#fb9f3a"
            ],
            [
             0.8888888888888888,
             "#fdca26"
            ],
            [
             1,
             "#f0f921"
            ]
           ],
           "sequentialminus": [
            [
             0,
             "#0d0887"
            ],
            [
             0.1111111111111111,
             "#46039f"
            ],
            [
             0.2222222222222222,
             "#7201a8"
            ],
            [
             0.3333333333333333,
             "#9c179e"
            ],
            [
             0.4444444444444444,
             "#bd3786"
            ],
            [
             0.5555555555555556,
             "#d8576b"
            ],
            [
             0.6666666666666666,
             "#ed7953"
            ],
            [
             0.7777777777777778,
             "#fb9f3a"
            ],
            [
             0.8888888888888888,
             "#fdca26"
            ],
            [
             1,
             "#f0f921"
            ]
           ]
          },
          "colorway": [
           "#636efa",
           "#EF553B",
           "#00cc96",
           "#ab63fa",
           "#FFA15A",
           "#19d3f3",
           "#FF6692",
           "#B6E880",
           "#FF97FF",
           "#FECB52"
          ],
          "font": {
           "color": "#2a3f5f"
          },
          "geo": {
           "bgcolor": "white",
           "lakecolor": "white",
           "landcolor": "white",
           "showlakes": true,
           "showland": true,
           "subunitcolor": "#C8D4E3"
          },
          "hoverlabel": {
           "align": "left"
          },
          "hovermode": "closest",
          "mapbox": {
           "style": "light"
          },
          "paper_bgcolor": "white",
          "plot_bgcolor": "white",
          "polar": {
           "angularaxis": {
            "gridcolor": "#EBF0F8",
            "linecolor": "#EBF0F8",
            "ticks": ""
           },
           "bgcolor": "white",
           "radialaxis": {
            "gridcolor": "#EBF0F8",
            "linecolor": "#EBF0F8",
            "ticks": ""
           }
          },
          "scene": {
           "xaxis": {
            "backgroundcolor": "white",
            "gridcolor": "#DFE8F3",
            "gridwidth": 2,
            "linecolor": "#EBF0F8",
            "showbackground": true,
            "ticks": "",
            "zerolinecolor": "#EBF0F8"
           },
           "yaxis": {
            "backgroundcolor": "white",
            "gridcolor": "#DFE8F3",
            "gridwidth": 2,
            "linecolor": "#EBF0F8",
            "showbackground": true,
            "ticks": "",
            "zerolinecolor": "#EBF0F8"
           },
           "zaxis": {
            "backgroundcolor": "white",
            "gridcolor": "#DFE8F3",
            "gridwidth": 2,
            "linecolor": "#EBF0F8",
            "showbackground": true,
            "ticks": "",
            "zerolinecolor": "#EBF0F8"
           }
          },
          "shapedefaults": {
           "line": {
            "color": "#2a3f5f"
           }
          },
          "ternary": {
           "aaxis": {
            "gridcolor": "#DFE8F3",
            "linecolor": "#A2B1C6",
            "ticks": ""
           },
           "baxis": {
            "gridcolor": "#DFE8F3",
            "linecolor": "#A2B1C6",
            "ticks": ""
           },
           "bgcolor": "white",
           "caxis": {
            "gridcolor": "#DFE8F3",
            "linecolor": "#A2B1C6",
            "ticks": ""
           }
          },
          "title": {
           "x": 0.05
          },
          "xaxis": {
           "automargin": true,
           "gridcolor": "#EBF0F8",
           "linecolor": "#EBF0F8",
           "ticks": "",
           "title": {
            "standoff": 15
           },
           "zerolinecolor": "#EBF0F8",
           "zerolinewidth": 2
          },
          "yaxis": {
           "automargin": true,
           "gridcolor": "#EBF0F8",
           "linecolor": "#EBF0F8",
           "ticks": "",
           "title": {
            "standoff": 15
           },
           "zerolinecolor": "#EBF0F8",
           "zerolinewidth": 2
          }
         }
        },
        "title": {
         "font": {
          "size": 24
         },
         "text": "<b>Gradient Norm</b>"
        },
        "width": 900,
        "xaxis": {
         "gridcolor": "white",
         "gridwidth": 2,
         "title": {
          "text": "<b>Step</b>"
         }
        },
        "yaxis": {
         "gridcolor": "white",
         "gridwidth": 2,
         "title": {
          "text": "<b>Gradient Norm</b>"
         }
        }
       }
      }
     },
     "metadata": {},
     "output_type": "display_data"
    },
    {
     "ename": "KeyError",
     "evalue": "'losses'",
     "output_type": "error",
     "traceback": [
      "\u001b[1;31m---------------------------------------------------------------------------\u001b[0m",
      "\u001b[1;31mKeyError\u001b[0m                                  Traceback (most recent call last)",
      "Cell \u001b[1;32mIn[22], line 1\u001b[0m\n\u001b[1;32m----> 1\u001b[0m \u001b[43mplot_results\u001b[49m\u001b[43m(\u001b[49m\u001b[43mresults\u001b[49m\u001b[43m)\u001b[49m\n",
      "Cell \u001b[1;32mIn[21], line 77\u001b[0m, in \u001b[0;36mplot_results\u001b[1;34m(results)\u001b[0m\n\u001b[0;32m     75\u001b[0m cumulative_times \u001b[38;5;241m=\u001b[39m {name: np\u001b[38;5;241m.\u001b[39mcumsum(data[\u001b[38;5;124m'\u001b[39m\u001b[38;5;124mtimes\u001b[39m\u001b[38;5;124m'\u001b[39m]) \u001b[38;5;28;01mfor\u001b[39;00m name, data \u001b[38;5;129;01min\u001b[39;00m results\u001b[38;5;241m.\u001b[39mitems()}\n\u001b[0;32m     76\u001b[0m cumulative_results \u001b[38;5;241m=\u001b[39m {name: {\u001b[38;5;124m'\u001b[39m\u001b[38;5;124mtimes\u001b[39m\u001b[38;5;124m'\u001b[39m: times} \u001b[38;5;28;01mfor\u001b[39;00m name, times \u001b[38;5;129;01min\u001b[39;00m cumulative_times\u001b[38;5;241m.\u001b[39mitems()}\n\u001b[1;32m---> 77\u001b[0m \u001b[43mplot_individual_metric\u001b[49m\u001b[43m(\u001b[49m\u001b[43mcumulative_results\u001b[49m\u001b[43m,\u001b[49m\u001b[43m \u001b[49m\u001b[38;5;124;43m'\u001b[39;49m\u001b[38;5;124;43mtimes\u001b[39;49m\u001b[38;5;124;43m'\u001b[39;49m\u001b[43m,\u001b[49m\u001b[43m \u001b[49m\u001b[38;5;124;43m\"\u001b[39;49m\u001b[38;5;124;43mCumulative Training Time\u001b[39;49m\u001b[38;5;124;43m\"\u001b[39;49m\u001b[43m,\u001b[49m\u001b[43m \u001b[49m\u001b[38;5;124;43m\"\u001b[39;49m\u001b[38;5;124;43mTime (s)\u001b[39;49m\u001b[38;5;124;43m\"\u001b[39;49m\u001b[43m)\u001b[49m\n",
      "Cell \u001b[1;32mIn[21], line 27\u001b[0m, in \u001b[0;36mplot_individual_metric\u001b[1;34m(results, metric, title, y_axis_title, log_scale)\u001b[0m\n\u001b[0;32m     15\u001b[0m x_data \u001b[38;5;241m=\u001b[39m \u001b[38;5;28mlist\u001b[39m(\u001b[38;5;28mrange\u001b[39m(\u001b[38;5;28mlen\u001b[39m(y_data)))\n\u001b[0;32m     17\u001b[0m fig\u001b[38;5;241m.\u001b[39madd_trace(\n\u001b[0;32m     18\u001b[0m     go\u001b[38;5;241m.\u001b[39mScatter(\n\u001b[0;32m     19\u001b[0m         x\u001b[38;5;241m=\u001b[39mx_data, \n\u001b[1;32m   (...)\u001b[0m\n\u001b[0;32m     24\u001b[0m     )\n\u001b[0;32m     25\u001b[0m )\n\u001b[1;32m---> 27\u001b[0m stability_score \u001b[38;5;241m=\u001b[39m \u001b[38;5;241m1\u001b[39m \u001b[38;5;241m/\u001b[39m (\u001b[38;5;241m1\u001b[39m \u001b[38;5;241m+\u001b[39m np\u001b[38;5;241m.\u001b[39mstd(\u001b[43mdata\u001b[49m\u001b[43m[\u001b[49m\u001b[38;5;124;43m'\u001b[39;49m\u001b[38;5;124;43mlosses\u001b[39;49m\u001b[38;5;124;43m'\u001b[39;49m\u001b[43m]\u001b[49m))\n\u001b[0;32m     28\u001b[0m converged_step \u001b[38;5;241m=\u001b[39m data[\u001b[38;5;124m'\u001b[39m\u001b[38;5;124mconverged_step\u001b[39m\u001b[38;5;124m'\u001b[39m]\n\u001b[0;32m     29\u001b[0m convergence_text \u001b[38;5;241m=\u001b[39m \u001b[38;5;124mf\u001b[39m\u001b[38;5;124m\"\u001b[39m\u001b[38;5;124mStep \u001b[39m\u001b[38;5;132;01m{\u001b[39;00mconverged_step\u001b[38;5;132;01m}\u001b[39;00m\u001b[38;5;124m\"\u001b[39m \u001b[38;5;28;01mif\u001b[39;00m converged_step \u001b[38;5;129;01mis\u001b[39;00m \u001b[38;5;129;01mnot\u001b[39;00m \u001b[38;5;28;01mNone\u001b[39;00m \u001b[38;5;28;01melse\u001b[39;00m \u001b[38;5;124m\"\u001b[39m\u001b[38;5;124mDid not converge\u001b[39m\u001b[38;5;124m\"\u001b[39m\n",
      "\u001b[1;31mKeyError\u001b[0m: 'losses'"
     ]
    }
   ],
   "source": [
    "plot_results(results)"
   ]
  },
  {
   "cell_type": "code",
   "execution_count": 10,
   "metadata": {},
   "outputs": [
    {
     "data": {
      "image/png": "[encoded data removed]",
      "text/plain": [
       "<Figure size 2000x1600 with 4 Axes>"
      ]
     },
     "metadata": {},
     "output_type": "display_data"
    }
   ],
   "source": [
    "import matplotlib.pyplot as plt\n",
    "import numpy as np\n",
    "\n",
    "def plot_results(results, convergence_threshold):\n",
    "    # Create subplots\n",
    "    fig, axs = plt.subplots(2, 2, figsize=(20, 16))\n",
    "    fig.suptitle(\"Learning Rate Scheduler Comparison\", fontsize=16)\n",
    "\n",
    "    # Color palette\n",
    "    colors = plt.cm.tab10(np.linspace(0, 1, len(results)))\n",
    "\n",
    "    for idx, (name, data) in enumerate(results.items()):\n",
    "        color = colors[idx]\n",
    "        \n",
    "        # Calculate stability score\n",
    "        stability_score = 1 / (1 + np.std(data['losses']))\n",
    "        \n",
    "        # Find convergence step\n",
    "        converged_step = next((i for i, loss in enumerate(data['losses']) \n",
    "                               if loss < convergence_threshold), None)\n",
    "        convergence_text = f\"Step {converged_step}\" if converged_step is not None else \"Did not converge\"\n",
    "\n",
    "        # Training Loss\n",
    "        axs[0, 0].plot(data['losses'], color=color, label=name)\n",
    "        axs[0, 0].set_ylabel('Loss')\n",
    "        axs[0, 0].set_xlabel('Step')\n",
    "        axs[0, 0].set_yscale('log')\n",
    "        axs[0, 0].set_title('Training Loss')\n",
    "\n",
    "        # Learning Rate Schedule\n",
    "        axs[0, 1].plot(data['lrs'], color=color, label=name)\n",
    "        axs[0, 1].set_ylabel('Learning Rate')\n",
    "        axs[0, 1].set_xlabel('Step')\n",
    "        axs[0, 1].set_yscale('log')\n",
    "        axs[0, 1].set_title('Learning Rate Schedule')\n",
    "\n",
    "        # Gradient Norm\n",
    "        axs[1, 0].plot(data['norms'], color=color, label=name)\n",
    "        axs[1, 0].set_ylabel('Gradient Norm')\n",
    "        axs[1, 0].set_xlabel('Step')\n",
    "        axs[1, 0].set_title('Gradient Norm')\n",
    "\n",
    "        # Cumulative Training Time\n",
    "        axs[1, 1].plot(np.cumsum(data['times']), color=color, label=name)\n",
    "        axs[1, 1].set_ylabel('Cumulative Time (s)')\n",
    "        axs[1, 1].set_xlabel('Step')\n",
    "        axs[1, 1].set_title('Cumulative Training Time')\n",
    "\n",
    "        # Add annotations for stability and convergence\n",
    "        axs[0, 0].annotate(f\"{name}\\nStability: {stability_score:.4f}\\nConvergence: {convergence_text}\",\n",
    "                           xy=(0.02, 0.98 - (idx * 0.1)), xycoords='axes fraction',\n",
    "                           fontsize=8, ha='left', va='top',\n",
    "                           bbox=dict(boxstyle='round,pad=0.5', fc='white', alpha=0.8))\n",
    "\n",
    "    # Add legends\n",
    "    for ax in axs.flat:\n",
    "        ax.legend(loc='upper right', fontsize='small')\n",
    "\n",
    "    plt.tight_layout()\n",
    "    plt.show()\n",
    "\n",
    "plot_results(results, convergence_threshold=0.001)"
   ]
  }
 ],
 "metadata": {
  "kernelspec": {
   "display_name": "env",
   "language": "python",
   "name": "python3"
  },
  "language_info": {
   "codemirror_mode": {
    "name": "ipython",
    "version": 3
   },
   "file_extension": ".py",
   "mimetype": "text/x-python",
   "name": "python",
   "nbconvert_exporter": "python",
   "pygments_lexer": "ipython3",
   "version": "3.9.18"
  }
 },
 "nbformat": 4,
 "nbformat_minor": 2
}
